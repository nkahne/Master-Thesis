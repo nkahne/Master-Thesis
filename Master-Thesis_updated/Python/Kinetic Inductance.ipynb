{
 "cells": [
  {
   "cell_type": "code",
   "execution_count": 5,
   "id": "blank-conspiracy",
   "metadata": {},
   "outputs": [
    {
     "data": {
      "text/plain": [
       "5.008480605333256e-14"
      ]
     },
     "execution_count": 5,
     "metadata": {},
     "output_type": "execute_result"
    }
   ],
   "source": [
    "import numpy as np\n",
    "\n",
    "lamda0 = 39e-9\n",
    "Tc = 9.25\n",
    "T = 4.2\n",
    "lamdaL = lamda0/(np.sqrt(1-(T/Tc)**4))\n",
    "mu0 = 4*np.pi*10**-7\n",
    "Ls = mu0*lamdaL\n",
    "Ls\n"
   ]
  },
  {
   "cell_type": "code",
   "execution_count": 4,
   "id": "polar-marine",
   "metadata": {},
   "outputs": [
    {
     "data": {
      "text/plain": [
       "6.48"
      ]
     },
     "execution_count": 4,
     "metadata": {},
     "output_type": "execute_result"
    }
   ],
   "source": [
    "1.62*4"
   ]
  },
  {
   "cell_type": "code",
   "execution_count": null,
   "id": "bored-calvin",
   "metadata": {},
   "outputs": [],
   "source": []
  }
 ],
 "metadata": {
  "kernelspec": {
   "display_name": "Python 3",
   "language": "python",
   "name": "python3"
  },
  "language_info": {
   "codemirror_mode": {
    "name": "ipython",
    "version": 3
   },
   "file_extension": ".py",
   "mimetype": "text/x-python",
   "name": "python",
   "nbconvert_exporter": "python",
   "pygments_lexer": "ipython3",
   "version": "3.7.3"
  }
 },
 "nbformat": 4,
 "nbformat_minor": 5
}
