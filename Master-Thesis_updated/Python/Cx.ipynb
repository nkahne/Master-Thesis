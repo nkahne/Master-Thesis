{
 "cells": [
  {
   "cell_type": "code",
   "execution_count": 1,
   "id": "beginning-receipt",
   "metadata": {},
   "outputs": [],
   "source": [
    "import numpy as np\n",
    "import matplotlib.pyplot as plt"
   ]
  },
  {
   "cell_type": "code",
   "execution_count": 2,
   "id": "acquired-sacrifice",
   "metadata": {},
   "outputs": [],
   "source": [
    "pi = np.pi\n",
    "phi0 = 2.067e-15   #Fluxquantum in Vs\n",
    "e0 = 8.854e-12   #epsilon0 in As/Vm\n",
    "mu0 = 1.257e-6   #µ0 in H/m\n",
    "def sqrt(x):\n",
    "    return np.sqrt(x)"
   ]
  },
  {
   "cell_type": "code",
   "execution_count": 3,
   "id": "decent-darkness",
   "metadata": {},
   "outputs": [],
   "source": [
    "def Q(Rx,Cx,Cp,Lip,Lp):\n",
    "    return Rx*np.sqrt((Cx+Cp/4)*(Lip+Lp)/(Lip*Lp))\n",
    "def Lip(Li,kis,s):\n",
    "    return Li*(1-kis**2*s)\n",
    "def s(betaL,sin,kis):\n",
    "    return (betaL*sin*kis**2)/(6+2*betaL+betaL*sin*kis**2)\n",
    "\n",
    "\n",
    "\n"
   ]
  },
  {
   "cell_type": "code",
   "execution_count": 4,
   "id": "hungarian-hollywood",
   "metadata": {},
   "outputs": [
    {
     "data": {
      "text/plain": [
       "(2.0412218497314436, 1.6119752335348142e-09, 0.030379150639767642)"
      ]
     },
     "execution_count": 4,
     "metadata": {},
     "output_type": "execute_result"
    }
   ],
   "source": [
    "#fabienne, lambda=48nm \n",
    "\n",
    "sin=0.5\n",
    "Rx=16.5\n",
    "Cx=10e-12\n",
    "kis=0.75\n",
    "betaL=0.86\n",
    "Li=1.64e-9   #real value 1.27nH or design value 1.64nH?\n",
    "#Lp=3.38*Li   #Lp entspricht Lb (Lpar schon abgezogen) -> S.154\n",
    "Lp=1.1e-9\n",
    "Cp=2.56e-14\n",
    "\n",
    "Q(Rx,Cx,Cp,Lip(Li,kis,s(betaL,sin,kis)),Lp), Lip(Li,kis,s(betaL,sin,kis)), s(betaL,sin,kis)"
   ]
  },
  {
   "cell_type": "code",
   "execution_count": 9,
   "id": "skilled-christopher",
   "metadata": {},
   "outputs": [
    {
     "name": "stdout",
     "output_type": "stream",
     "text": [
      "8.920e+08\n",
      "1.1337797930170777\n",
      "1.844e-06\n"
     ]
    }
   ],
   "source": [
    "#nico, lamda=90nm\n",
    "\n",
    "Rx=20.4\n",
    "Cx=10e-12\n",
    "kis=0.75   #assumption\n",
    "betaL=0.6   \n",
    "Li=6.4e-9\n",
    "Lp=6.65e-9\n",
    "Lpar=0.5e-9\n",
    "sin=Li/(Li+Lp+Lpar)\n",
    "Cp=4.304e-14\n",
    "Ltot=Lip(Li,kis,s(betaL,sin,kis))*Li/(Lip(Li,kis,s(betaL,sin,kis))+Li)   #parallelinduktivität Li' und Lp\n",
    "Ctot=Cp/4+Cx\n",
    "ftheo=1/(2*pi*sqrt(Ltot*Ctot)) \n",
    "print(f'{ftheo:.3e}')\n",
    "print(f'{Q(Rx,Cx,Cp,Lip(Li,kis,s(betaL,sin,kis)),Lp)}')\n",
    "print(f'{ftheo*2.0678e-15:.3e}')"
   ]
  },
  {
   "cell_type": "code",
   "execution_count": 10,
   "id": "formed-queensland",
   "metadata": {},
   "outputs": [
    {
     "data": {
      "text/plain": [
       "(6.32202166064982e-09, 0.47232472324723246)"
      ]
     },
     "execution_count": 10,
     "metadata": {},
     "output_type": "execute_result"
    }
   ],
   "source": [
    "Lip(Li,kis,s(betaL,sin,kis)), sin"
   ]
  },
  {
   "cell_type": "code",
   "execution_count": null,
   "id": "1b68ba8d-a423-4399-8451-77b6cb4d9acf",
   "metadata": {},
   "outputs": [],
   "source": []
  }
 ],
 "metadata": {
  "kernelspec": {
   "display_name": "Python 3 (ipykernel)",
   "language": "python",
   "name": "python3"
  },
  "language_info": {
   "codemirror_mode": {
    "name": "ipython",
    "version": 3
   },
   "file_extension": ".py",
   "mimetype": "text/x-python",
   "name": "python",
   "nbconvert_exporter": "python",
   "pygments_lexer": "ipython3",
   "version": "3.11.6"
  }
 },
 "nbformat": 4,
 "nbformat_minor": 5
}
