{
 "cells": [
  {
   "cell_type": "code",
   "execution_count": 2,
   "id": "1cde98b0",
   "metadata": {},
   "outputs": [],
   "source": [
    "import numpy as np"
   ]
  },
  {
   "cell_type": "code",
   "execution_count": 9,
   "id": "19d84571",
   "metadata": {},
   "outputs": [
    {
     "data": {
      "text/plain": [
       "array([[-2.59999999e-05,  1.63999996e+00],\n",
       "       [-2.49999999e-05,  1.67999996e+00],\n",
       "       [-2.39999999e-05,  1.63999996e+00],\n",
       "       ...,\n",
       "       [ 9.99669997e-02,  1.63999996e+00],\n",
       "       [ 9.99679997e-02,  1.63999996e+00],\n",
       "       [ 9.99689997e-02,  1.63999996e+00]])"
      ]
     },
     "execution_count": 9,
     "metadata": {},
     "output_type": "execute_result"
    }
   ],
   "source": [
    "np.loadtxt('2c-23_I_V_kennlinie.csv', skiprows=4, usecols=(3,4), delimiter=',')"
   ]
  },
  {
   "cell_type": "code",
   "execution_count": 6,
   "id": "615fcbf9",
   "metadata": {},
   "outputs": [],
   "source": [
    "np.loadtxt?"
   ]
  },
  {
   "cell_type": "code",
   "execution_count": null,
   "id": "930d15bc",
   "metadata": {},
   "outputs": [],
   "source": []
  }
 ],
 "metadata": {
  "kernelspec": {
   "display_name": "Python 3 (ipykernel)",
   "language": "python",
   "name": "python3"
  },
  "language_info": {
   "codemirror_mode": {
    "name": "ipython",
    "version": 3
   },
   "file_extension": ".py",
   "mimetype": "text/x-python",
   "name": "python",
   "nbconvert_exporter": "python",
   "pygments_lexer": "ipython3",
   "version": "3.9.7"
  }
 },
 "nbformat": 4,
 "nbformat_minor": 5
}
