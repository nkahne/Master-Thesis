{
 "cells": [
  {
   "cell_type": "code",
   "execution_count": 136,
   "id": "changed-better",
   "metadata": {
    "tags": []
   },
   "outputs": [],
   "source": [
    "import numpy as np\n",
    "import matplotlib.pyplot as plt"
   ]
  },
  {
   "cell_type": "code",
   "execution_count": 137,
   "id": "adaptive-economy",
   "metadata": {
    "tags": []
   },
   "outputs": [],
   "source": [
    "pi = np.pi\n",
    "cos = np.cos\n",
    "sin = np.sin\n",
    "sqrt = np.sqrt\n",
    "h = 6.626e-34   #planck in J/Hz\n",
    "phi0 = 2.067e-15   #Fluxquantum in Vs\n",
    "e0 = 8.854e-12   #epsilon0 in As/Vm\n",
    "mu0 = 1.257e-6   #µ0 in H/m\n",
    "kB = 1.38e-23   #boltzmann cons. in J/K"
   ]
  },
  {
   "cell_type": "markdown",
   "id": "casual-prompt",
   "metadata": {},
   "source": [
    "## 1.2.4 (Noise)"
   ]
  },
  {
   "cell_type": "code",
   "execution_count": 138,
   "id": "congressional-activity",
   "metadata": {},
   "outputs": [
    {
     "data": {
      "text/plain": [
       "(0.6044048513949449, 0.9119282013323058)"
      ]
     },
     "execution_count": 138,
     "metadata": {},
     "output_type": "execute_result"
    }
   ],
   "source": [
    "#epsilon estimate\n",
    "T = 100e-3   #mK\n",
    "C = 3e-12   #pF\n",
    "Ls = 100e-12   #pH\n",
    "Ic = 1e-6   #µA\n",
    "Rs = 10  #Ohm\n",
    "\n",
    "def betaC(Ic,C,Rs):\n",
    "    return 2*Ic*pi*C*Rs**2/phi0\n",
    "\n",
    "def epsilon(T,C,Ls,Rs):\n",
    "    return 16*kB*T*sqrt(Ls*C/betaC(Ic,C,Rs))/h\n",
    "\n",
    "epsilon(T,C,Ls,Rs), betaC(Ic,C,Rs)"
   ]
  },
  {
   "cell_type": "markdown",
   "id": "known-bench",
   "metadata": {},
   "source": [
    "## 2.2.1 (Amplifier noise)"
   ]
  },
  {
   "cell_type": "code",
   "execution_count": 139,
   "id": "narrative-democrat",
   "metadata": {},
   "outputs": [
    {
     "data": {
      "text/plain": [
       "(3.6946141356183754e-08, 2.5781249999999997e-07)"
      ]
     },
     "execution_count": 139,
     "metadata": {},
     "output_type": "execute_result"
    }
   ],
   "source": [
    "Sphi_s = (1e-6)**2   #muPhi0**2/hz\n",
    "Sv = (0.33e-9)**2\n",
    "Si = (2.6e-12)**2\n",
    "Vphi = 600e-6\n",
    "Iphi = 12e-6\n",
    "\n",
    "def singlestage_noise():\n",
    "    return sqrt(Sv/Vphi**2/16**2 + Si/Iphi**2/16**2)\n",
    "\n",
    "singlestage_noise(), sqrt(Sv)/(16*80e-6)"
   ]
  },
  {
   "cell_type": "markdown",
   "id": "chemical-sending",
   "metadata": {},
   "source": [
    "## 2.2.2 (Amplifier noise - 2stage)"
   ]
  },
  {
   "cell_type": "code",
   "execution_count": 140,
   "id": "starting-bennett",
   "metadata": {},
   "outputs": [
    {
     "data": {
      "text/plain": [
       "(6.964958281698117e-08, 1.0941902337567805e-08, 6.896714200648797e-08)"
      ]
     },
     "execution_count": 140,
     "metadata": {},
     "output_type": "execute_result"
    }
   ],
   "source": [
    "Gphi = pi\n",
    "def twostage_rta_noise():\n",
    "    return sqrt(Sv/Vphi**2/Gphi**2/18**2 + Si/Iphi**2/Gphi**2)\n",
    "twostage_rta_noise(), sqrt(Sv/Vphi**2/Gphi**2/16**2), sqrt(Si/Iphi**2/Gphi**2)"
   ]
  },
  {
   "cell_type": "markdown",
   "id": "drawn-collection",
   "metadata": {},
   "source": [
    "## 2.3 (Flux-toFlux transter maximization)"
   ]
  },
  {
   "cell_type": "code",
   "execution_count": 141,
   "id": "olympic-bouquet",
   "metadata": {
    "tags": []
   },
   "outputs": [],
   "source": [
    "Lm = 13.3e-9\n",
    "Lpar = 0.5e-9\n",
    "Ls = 106e-12\n",
    "kis = 0.7\n",
    "def Li_theo(n):\n",
    "    return 1.64e-9*n**2\n",
    "#Li=160e-9\n",
    "\n",
    "def ftf(Li):\n",
    "    return kis*sqrt(Ls*Li)/(Lm+2*(Li+Lpar))"
   ]
  },
  {
   "cell_type": "code",
   "execution_count": 142,
   "id": "subject-canberra",
   "metadata": {
    "tags": []
   },
   "outputs": [
    {
     "data": {
      "text/plain": [
       "<matplotlib.collections.PathCollection at 0x7f2c106076d8>"
      ]
     },
     "execution_count": 142,
     "metadata": {},
     "output_type": "execute_result"
    },
    {
     "data": {
      "image/png": "[encoded data removed]",
      "text/plain": [
       "<Figure size 432x288 with 1 Axes>"
      ]
     },
     "metadata": {
      "needs_background": "light"
     },
     "output_type": "display_data"
    }
   ],
   "source": [
    "n=np.arange(1,11,0.01)\n",
    "plt.scatter(n,ftf(Li_theo(n)), s=5)\n",
    "\n",
    "#plot for results chapter?"
   ]
  },
  {
   "cell_type": "code",
   "execution_count": 143,
   "id": "spoken-execution",
   "metadata": {
    "tags": []
   },
   "outputs": [
    {
     "data": {
      "text/plain": [
       "2.0900000000000007"
      ]
     },
     "execution_count": 143,
     "metadata": {},
     "output_type": "execute_result"
    }
   ],
   "source": [
    "n[np.argmax(ftf(Li_theo(n)))]"
   ]
  },
  {
   "cell_type": "code",
   "execution_count": 144,
   "id": "editorial-mouse",
   "metadata": {
    "tags": []
   },
   "outputs": [
    {
     "data": {
      "text/plain": [
       "6.263636363636362e-10"
      ]
     },
     "execution_count": 144,
     "metadata": {},
     "output_type": "execute_result"
    }
   ],
   "source": [
    "(3.3e-6/2.067e-15)**-1"
   ]
  },
  {
   "cell_type": "code",
   "execution_count": 145,
   "id": "corporate-probe",
   "metadata": {},
   "outputs": [
    {
     "data": {
      "text/plain": [
       "0.7050193314634637"
      ]
     },
     "execution_count": 145,
     "metadata": {},
     "output_type": "execute_result"
    }
   ],
   "source": [
    "626e-12/sqrt(6.57e-9*120e-12)"
   ]
  },
  {
   "cell_type": "code",
   "execution_count": 146,
   "id": "seeing-kelly",
   "metadata": {},
   "outputs": [
    {
     "data": {
      "text/plain": [
       "0.0228134110787172"
      ]
     },
     "execution_count": 146,
     "metadata": {},
     "output_type": "execute_result"
    }
   ],
   "source": [
    "626e-12/(2*(0.5e-9+6.65e-9+6.57e-9))"
   ]
  },
  {
   "cell_type": "code",
   "execution_count": 147,
   "id": "improving-screen",
   "metadata": {},
   "outputs": [
    {
     "data": {
      "text/plain": [
       "1.169230769230769"
      ]
     },
     "execution_count": 147,
     "metadata": {},
     "output_type": "execute_result"
    }
   ],
   "source": [
    "2.28/1.95"
   ]
  },
  {
   "cell_type": "code",
   "execution_count": 148,
   "id": "historical-hollow",
   "metadata": {},
   "outputs": [
    {
     "data": {
      "text/plain": [
       "0.019477434679334917"
      ]
     },
     "execution_count": 148,
     "metadata": {},
     "output_type": "execute_result"
    }
   ],
   "source": [
    "328e-12/(2*(0.5e-9+6.65e-9+1.27e-9))"
   ]
  },
  {
   "cell_type": "markdown",
   "id": "healthy-rating",
   "metadata": {},
   "source": [
    "## 3.1 (Flux-to-transfer + extr. energy sens. [theo]) "
   ]
  },
  {
   "cell_type": "code",
   "execution_count": 161,
   "id": "ongoing-candy",
   "metadata": {},
   "outputs": [
    {
     "name": "stdout",
     "output_type": "stream",
     "text": [
      "theo. obtainable energy sens.:  0.534h\n",
      "theo. obtainable deltaS/deltaP corresponnding to single Lp: 5.38%\n",
      "theo. obtainable deltaS/delta corresponnding to parallel meander Lp: 2.69%\n"
     ]
    }
   ],
   "source": [
    "phi0 = 2.0678e-15\n",
    "kb = 1.38e-23 \n",
    "h = 6.626e-34\n",
    "T = 20e-3\n",
    "Ic = 6e-6\n",
    "C = 0.95e-12\n",
    "Ls = 147e-12\n",
    "Lpar = 0.5e-9\n",
    "Lm = 13.3e-9\n",
    "Lp = Lm/2\n",
    "Li_opt = Lp+Lpar\n",
    "kis = 0.75\n",
    "sin = Li/(Li_opt + Lpar + Lp)\n",
    "\n",
    "def betaL(Ls):\n",
    "    return 2*Ic*Ls/phi0\n",
    "\n",
    "def betaC(Rs):\n",
    "    return 2*np.pi*Ic*Rs**2*C/phi0\n",
    "\n",
    "def ep(Rs,Ls):\n",
    "    return kb*T*np.sqrt(betaL(Ls)*phi0*C/(2*Ic))*np.sqrt(np.pi*betaL(Ls)/betaC(Rs))*((1-kis**2*sin)**2+np.sqrt(2)*(1+betaL(Ls))**2/betaL(Ls)**2)*(2*Lpar+Lm)/(kis**2*sin**2*Lm)\n",
    "\n",
    "print(f'theo. obtainable energy sens.:  {ep(6.3,147e-12)/h:.3}' + 'h')\n",
    "print(f'theo. obtainable deltaS/deltaP corresponnding to single Lp: {2*ftf(Li_opt)*100:.3}' + '%')\n",
    "print(f'theo. obtainable deltaS/delta corresponnding to parallel meander Lp: {ftf(Li_opt)*100:.3}' + '%')"
   ]
  },
  {
   "cell_type": "code",
   "execution_count": null,
   "id": "bridal-lincoln",
   "metadata": {},
   "outputs": [],
   "source": [
    "Li_opt"
   ]
  },
  {
   "cell_type": "code",
   "execution_count": null,
   "id": "monthly-seattle",
   "metadata": {},
   "outputs": [],
   "source": [
    "Li_theo(2.09)"
   ]
  },
  {
   "cell_type": "code",
   "execution_count": null,
   "id": "induced-glucose",
   "metadata": {},
   "outputs": [],
   "source": [
    "#Energieausflösung detektor???"
   ]
  },
  {
   "cell_type": "code",
   "execution_count": null,
   "id": "intensive-battle",
   "metadata": {},
   "outputs": [],
   "source": [
    "betaC(6)"
   ]
  },
  {
   "cell_type": "code",
   "execution_count": null,
   "id": "central-regression",
   "metadata": {},
   "outputs": [],
   "source": [
    "Mis_theo_max = kis*sqrt(Li_opt*Ls)"
   ]
  },
  {
   "cell_type": "markdown",
   "id": "northern-phase",
   "metadata": {},
   "source": [
    "## 3.1 (Critical B-Field)"
   ]
  },
  {
   "cell_type": "code",
   "execution_count": null,
   "id": "sweet-depth",
   "metadata": {},
   "outputs": [],
   "source": [
    "def Bcrit(w):\n",
    "    return 1.65*phi0/w**2\n",
    "w = np.linspace(1,21,2000)*1e-6\n",
    "plt.plot(w,Bcrit(w)*1e6)"
   ]
  },
  {
   "cell_type": "code",
   "execution_count": null,
   "id": "pending-stuff",
   "metadata": {},
   "outputs": [],
   "source": [
    "def wi(B):\n",
    "    return sqrt(1.65*phi0/B)\n",
    "wi(65e-6)"
   ]
  },
  {
   "cell_type": "code",
   "execution_count": null,
   "id": "coordinate-baker",
   "metadata": {},
   "outputs": [],
   "source": [
    "1/(11.8*1e4)"
   ]
  },
  {
   "cell_type": "code",
   "execution_count": null,
   "id": "thirty-legislation",
   "metadata": {},
   "outputs": [],
   "source": [
    "4*26/2.4\n"
   ]
  },
  {
   "cell_type": "code",
   "execution_count": 162,
   "id": "floppy-station",
   "metadata": {},
   "outputs": [
    {
     "data": {
      "text/plain": [
       "11.7"
      ]
     },
     "execution_count": 162,
     "metadata": {},
     "output_type": "execute_result"
    }
   ],
   "source": [
    "2*5.85"
   ]
  },
  {
   "cell_type": "markdown",
   "id": "covered-plant",
   "metadata": {},
   "source": [
    "## 4.1 "
   ]
  },
  {
   "cell_type": "code",
   "execution_count": 184,
   "id": "declared-exclusion",
   "metadata": {},
   "outputs": [
    {
     "data": {
      "text/plain": [
       "(5.807607831226785, 5.8075)"
      ]
     },
     "execution_count": 184,
     "metadata": {},
     "output_type": "execute_result"
    }
   ],
   "source": [
    "#Ic (Ib)\n",
    "\n",
    "def ic(ib,T):\n",
    "    return ib/2 + kB*T/phi0*(1+sqrt(1+ib*phi0/(kB*T)))\n",
    "\n",
    "ic(11.615,0.15), 11.615/2\n",
    "#this or median of all 10 Ic's?    "
   ]
  },
  {
   "cell_type": "code",
   "execution_count": 190,
   "id": "noble-heritage",
   "metadata": {},
   "outputs": [
    {
     "data": {
      "text/plain": [
       "29.62962962962963"
      ]
     },
     "execution_count": 190,
     "metadata": {},
     "output_type": "execute_result"
    }
   ],
   "source": [
    "jc=5.84e-6/(4.5e-6)**2\n",
    "jc/1e4\n"
   ]
  },
  {
   "cell_type": "code",
   "execution_count": 192,
   "id": "loved-haiti",
   "metadata": {},
   "outputs": [
    {
     "data": {
      "text/plain": [
       "(0.02666666666666669, 0.026320000000000003)"
      ]
     },
     "execution_count": 192,
     "metadata": {},
     "output_type": "execute_result"
    }
   ],
   "source": [
    "#deviations\n",
    "(6-5.84)/6, (29.6296-28.84)/30"
   ]
  },
  {
   "cell_type": "code",
   "execution_count": 172,
   "id": "funded-exclusion",
   "metadata": {},
   "outputs": [
    {
     "data": {
      "text/plain": [
       "0.05672339005672339"
      ]
     },
     "execution_count": 172,
     "metadata": {},
     "output_type": "execute_result"
    }
   ],
   "source": [
    "1.7/29.97"
   ]
  },
  {
   "cell_type": "code",
   "execution_count": 179,
   "id": "annual-mount",
   "metadata": {},
   "outputs": [
    {
     "data": {
      "text/plain": [
       "0.02666666666666667"
      ]
     },
     "execution_count": 179,
     "metadata": {},
     "output_type": "execute_result"
    }
   ],
   "source": [
    "0.16/6"
   ]
  },
  {
   "cell_type": "code",
   "execution_count": null,
   "id": "whole-rental",
   "metadata": {},
   "outputs": [],
   "source": []
  }
 ],
 "metadata": {
  "kernelspec": {
   "display_name": "Python 3",
   "language": "python",
   "name": "python3"
  },
  "language_info": {
   "codemirror_mode": {
    "name": "ipython",
    "version": 3
   },
   "file_extension": ".py",
   "mimetype": "text/x-python",
   "name": "python",
   "nbconvert_exporter": "python",
   "pygments_lexer": "ipython3",
   "version": "3.7.3"
  }
 },
 "nbformat": 4,
 "nbformat_minor": 5
}
