{
 "cells": [
  {
   "cell_type": "markdown",
   "id": "skilled-difficulty",
   "metadata": {},
   "source": [
    "import numpy as np\n",
    "import matplotlib.pyplot as plt"
   ]
  },
  {
   "cell_type": "code",
   "execution_count": 3,
   "id": "bridal-groove",
   "metadata": {},
   "outputs": [],
   "source": [
    "pi = np.pi\n",
    "cos = np.cos\n",
    "sin = np.sin\n",
    "sqrt = np.sqrt\n",
    "h = 6.626e-34   #planck in J/Hz\n",
    "phi0 = 2.067e-15   #Fluxquantum in Vs\n",
    "e0 = 8.854e-12   #epsilon0 in As/Vm\n",
    "mu0 = 1.257e-6   #µ0 in H/m\n",
    "kB = 1.38e-23   #boltzmann cons. in J/K"
   ]
  },
  {
   "cell_type": "markdown",
   "id": "composed-friendly",
   "metadata": {},
   "source": [
    "## 1.2.4 (Noise)"
   ]
  },
  {
   "cell_type": "code",
   "execution_count": 4,
   "id": "caring-nigeria",
   "metadata": {},
   "outputs": [
    {
     "data": {
      "text/plain": [
       "(0.6044048513949449, 0.9119282013323058)"
      ]
     },
     "execution_count": 4,
     "metadata": {},
     "output_type": "execute_result"
    }
   ],
   "source": [
    "#epsilon estimate\n",
    "T = 100e-3   #mK\n",
    "C = 3e-12   #pF\n",
    "Ls = 100e-12   #pH\n",
    "Ic = 1e-6   #µA\n",
    "Rs = 10  #Ohm\n",
    "\n",
    "def betaC(Ic,C,Rs):\n",
    "    return 2*Ic*pi*C*Rs**2/phi0\n",
    "\n",
    "def epsilon(T,C,Ls,Rs):\n",
    "    return 16*kB*T*sqrt(Ls*C/betaC(Ic,C,Rs))/h\n",
    "\n",
    "epsilon(T,C,Ls,Rs), betaC(Ic,C,Rs)"
   ]
  },
  {
   "cell_type": "markdown",
   "id": "annoying-superintendent",
   "metadata": {},
   "source": [
    "## 2.2.1 (Amplifier noise)"
   ]
  },
  {
   "cell_type": "code",
   "execution_count": 49,
   "id": "united-housing",
   "metadata": {},
   "outputs": [
    {
     "data": {
      "text/plain": [
       "(3.6946141356183754e-08, 2.5781249999999997e-07)"
      ]
     },
     "execution_count": 49,
     "metadata": {},
     "output_type": "execute_result"
    }
   ],
   "source": [
    "Sphi_s = (1e-6)**2   #muPhi0**2/hz\n",
    "Sv = (0.33e-9)**2\n",
    "Si = (2.6e-12)**2\n",
    "Vphi = 600e-6\n",
    "Iphi = 12e-6\n",
    "\n",
    "def singlestage_noise():\n",
    "    return sqrt(Sv/Vphi**2/16**2 + Si/Iphi**2/16**2)\n",
    "\n",
    "singlestage_noise(), sqrt(Sv)/(16*80e-6)"
   ]
  },
  {
   "cell_type": "markdown",
   "id": "front-assumption",
   "metadata": {},
   "source": [
    "## 2.2.2 (Amplifier noise - 2stage)"
   ]
  },
  {
   "cell_type": "code",
   "execution_count": 44,
   "id": "exceptional-thumbnail",
   "metadata": {},
   "outputs": [
    {
     "data": {
      "text/plain": [
       "(8.386566158509312e-08, 8.206426753175852e-08, 4.138028520389278e-08)"
      ]
     },
     "execution_count": 44,
     "metadata": {},
     "output_type": "execute_result"
    }
   ],
   "source": [
    "Gphi = pi\n",
    "def twostage_rta_noise():\n",
    "    return sqrt(Sv/Vphi**2/Gphi**2/18**2 + Si/Iphi**2/Gphi**2)\n",
    "twostage_rta_noise(), sqrt(Sv/Vphi**2/Gphi**2/16**2), sqrt(Si/Iphi**2/Gphi**2)"
   ]
  },
  {
   "cell_type": "code",
   "execution_count": 47,
   "id": "featured-specific",
   "metadata": {},
   "outputs": [
    {
     "data": {
      "text/plain": [
       "1e-09"
      ]
     },
     "execution_count": 47,
     "metadata": {},
     "output_type": "execute_result"
    }
   ],
   "source": [
    "10e-6*100e-6"
   ]
  },
  {
   "cell_type": "code",
   "execution_count": null,
   "id": "asian-rebel",
   "metadata": {},
   "outputs": [],
   "source": []
  }
 ],
 "metadata": {
  "kernelspec": {
   "display_name": "Python 3",
   "language": "python",
   "name": "python3"
  },
  "language_info": {
   "codemirror_mode": {
    "name": "ipython",
    "version": 3
   },
   "file_extension": ".py",
   "mimetype": "text/x-python",
   "name": "python",
   "nbconvert_exporter": "python",
   "pygments_lexer": "ipython3",
   "version": "3.7.3"
  }
 },
 "nbformat": 4,
 "nbformat_minor": 5
}
