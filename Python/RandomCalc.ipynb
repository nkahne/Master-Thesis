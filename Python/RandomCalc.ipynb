{
 "cells": [
  {
   "cell_type": "code",
   "execution_count": 1,
   "id": "7d5a1415-9be8-4dd1-af36-e8aeb6330eda",
   "metadata": {},
   "outputs": [],
   "source": [
    "import numpy as np\n",
    "import matplotlib.pyplot as plt"
   ]
  },
  {
   "cell_type": "code",
   "execution_count": 8,
   "id": "f6d6399f-b2a0-459d-93e9-847ff3fe3890",
   "metadata": {},
   "outputs": [],
   "source": [
    "pi = np.pi\n",
    "cos = np.cos\n",
    "sin = np.sin\n",
    "sqrt = np.sqrt\n",
    "h = 6.626e-34   #planck in J/Hz\n",
    "phi0 = 2.067e-15   #Fluxquantum in Vs\n",
    "e0 = 8.854e-12   #epsilon0 in As/Vm\n",
    "mu0 = 1.257e-6   #µ0 in H/m\n",
    "kB = 1.38e-23   #boltzmann cons. in J/K"
   ]
  },
  {
   "cell_type": "markdown",
   "id": "0972239c-46b3-4578-844f-1d8047ada99d",
   "metadata": {},
   "source": [
    "## 1.2.4 (Noise)"
   ]
  },
  {
   "cell_type": "code",
   "execution_count": 26,
   "id": "2bd294dd-6a34-4f0f-a411-b156dd803bf1",
   "metadata": {},
   "outputs": [
    {
     "data": {
      "text/plain": [
       "(0.6044048513949449, 0.9119282013323058)"
      ]
     },
     "execution_count": 26,
     "metadata": {},
     "output_type": "execute_result"
    }
   ],
   "source": [
    "#epsilon estimate\n",
    "T = 100e-3   #mK\n",
    "C = 3e-12   #pF\n",
    "Ls = 100e-12   #pH\n",
    "Ic = 1e-6   #µA\n",
    "Rs = 10  #Ohm\n",
    "\n",
    "def betaC(Ic,C,Rs):\n",
    "    return 2*Ic*pi*C*Rs**2/phi0\n",
    "\n",
    "def epsilon(T,C,Ls,Rs):\n",
    "    return 16*kB*T*sqrt(Ls*C/betaC(Ic,C,Rs))/h\n",
    "\n",
    "epsilon(T,C,Ls,Rs), betaC(Ic,C,Rs)"
   ]
  },
  {
   "cell_type": "code",
   "execution_count": null,
   "id": "b0388e2a-689a-46db-8494-61f707da5b8c",
   "metadata": {},
   "outputs": [],
   "source": []
  }
 ],
 "metadata": {
  "kernelspec": {
   "display_name": "Python 3 (ipykernel)",
   "language": "python",
   "name": "python3"
  },
  "language_info": {
   "codemirror_mode": {
    "name": "ipython",
    "version": 3
   },
   "file_extension": ".py",
   "mimetype": "text/x-python",
   "name": "python",
   "nbconvert_exporter": "python",
   "pygments_lexer": "ipython3",
   "version": "3.11.6"
  }
 },
 "nbformat": 4,
 "nbformat_minor": 5
}
