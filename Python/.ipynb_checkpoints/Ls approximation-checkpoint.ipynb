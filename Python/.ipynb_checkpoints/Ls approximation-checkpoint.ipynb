{
 "cells": [
  {
   "cell_type": "code",
   "execution_count": 2,
   "metadata": {},
   "outputs": [],
   "source": [
    "import numpy as np\n",
    "import matplotlib.pyplot as plt"
   ]
  },
  {
   "cell_type": "markdown",
   "metadata": {},
   "source": [
    "## Kreisf. Leiterschleife"
   ]
  },
  {
   "cell_type": "code",
   "execution_count": 3,
   "metadata": {},
   "outputs": [
    {
     "data": {
      "text/plain": [
       "(4.2620592429397293e-10,\n",
       " 3.7404299357265455e-10,\n",
       " 4.260303498370578e-10,\n",
       " 1.1071875)"
      ]
     },
     "execution_count": 3,
     "metadata": {},
     "output_type": "execute_result"
    }
   ],
   "source": [
    "#Toymodel\n",
    "\n",
    "u0 = 1.257e-6   #µ0 in H/m\n",
    "def Lk(r,a,x):\n",
    "    return u0*r*(np.log(16*r/a)-2)*x   #a: Leiterbreite, r: Schleifenradius\n",
    "\n",
    "rk = 160e-6   #Schleifenradius\n",
    "rg = 177.15e-6   #Vergrößerter Schleifenradius, um auf die Ls=426pH wieder zu kommen (erhalten durch einsetzen)\n",
    "a6 = 10e-6   #Leiterbahnbreite von i6\n",
    "a2 = a6/2   #Leiterbahnbreite von i2 (original)\n",
    "x6 = 0.5246   #Abschirmfaktor bei zwei Windungen, um auf die FEMM Werte (Andreas) zu kommen\n",
    "x2 = 0.5   #Abschirmfaktor bei einer Windung, um auf die FEMM Werte (Andreas) zu kommen\n",
    "\n",
    "Ratio = rg/rk\n",
    "\n",
    "Lk(rk,a2,0.5), Lk(rk,a6,x6), Lk(rg,a6,x6), Ratio"
   ]
  },
  {
   "cell_type": "code",
   "execution_count": 4,
   "metadata": {},
   "outputs": [
    {
     "name": "stdout",
     "output_type": "stream",
     "text": [
      "Folgende Werte sind ca. eine Größenordnung zu klein!\n"
     ]
    },
    {
     "data": {
      "text/plain": [
       "(3.5482004492137707e-11, 3.3982301497212656e-11, 3.548360494825139e-11)"
      ]
     },
     "execution_count": 4,
     "metadata": {},
     "output_type": "execute_result"
    }
   ],
   "source": [
    "#Fabiennes i2 / mein i6 FE\n",
    "\n",
    "Ls = 119e-12   #Simulationswert windowtype \n",
    "r2 = 67.04e-6   #grob gemessener Wert unter der Annahme, die Washerschleife sei kreisförmig\n",
    "r6 = r2*Ratio  #Vergrößerter Schleifenradius (verlängerte Ohren)\n",
    "r6_corr =r2*1.143   #Angepasstes Verhältnis da r logarithmisch!\n",
    "print(\"Folgende Werte sind ca. eine Größenordnung zu klein!\")\n",
    "Lk(r2,a2,x2)/4, Lk(r6,a6,x6)/4, Lk(r6_corr,a6,x6)/4"
   ]
  },
  {
   "cell_type": "markdown",
   "metadata": {},
   "source": [
    "## Polygon-Formel"
   ]
  },
  {
   "cell_type": "code",
   "execution_count": 5,
   "metadata": {},
   "outputs": [],
   "source": [
    "def c(N,d):                                          #Umfang\n",
    "    return N*np.tan(np.pi/N)*d\n",
    "def gammaL(N,d,w):                                   #Geometriefaktor\n",
    "    return (np.log(d/w+2.8)+0.2+2.7*(d/c(N,d)))/2.07\n",
    "def Lp(N,d,w):                                       #Induktivität des N-eckigen Polygons\n",
    "    return gammaL(N,d,w)*c(N,d)*u0/np.pi\n",
    "    "
   ]
  },
  {
   "cell_type": "code",
   "execution_count": 6,
   "metadata": {},
   "outputs": [
    {
     "data": {
      "text/plain": [
       "8.039123157781619e-11"
      ]
     },
     "execution_count": 6,
     "metadata": {},
     "output_type": "execute_result"
    }
   ],
   "source": [
    "Lp(8,75e-6,10e-6)/2   #halbes Achteck, Außenrand von Washerschleife"
   ]
  },
  {
   "cell_type": "markdown",
   "metadata": {},
   "source": [
    "## Rechteck-Formel"
   ]
  },
  {
   "cell_type": "code",
   "execution_count": 40,
   "metadata": {},
   "outputs": [],
   "source": [
    "R = 0.223*(10.25e-6)\n",
    "a = 250e-9\n",
    "b = 10e-6\n",
    "\n",
    "#Im folgenden 3 verschiedene Formeln (aus Literatur) für Leiterstücke mit rechteckigem Querschnitt\n",
    "\n",
    "def Lr(l):\n",
    "    return (u0*l)/(2*np.pi)*(np.log((2*l)/R)-1+R/l)\n",
    "\n",
    "def Lr2(l):\n",
    "    return (u0*l)/(2*np.pi)*(np.log((2*l)/(a+b))-0.2235*np.log((a+b)/l)+0.5)\n",
    "\n",
    "def Lr3(l):\n",
    "    return (u0*l)/(2*np.pi)*(np.log((2*l)/(a+b))+0.5)"
   ]
  },
  {
   "cell_type": "code",
   "execution_count": 41,
   "metadata": {},
   "outputs": [
    {
     "data": {
      "text/plain": [
       "(6.38299516754396e-11, 7.25536900597114e-11, 6.336179575780121e-11)"
      ]
     },
     "execution_count": 41,
     "metadata": {},
     "output_type": "execute_result"
    }
   ],
   "source": [
    "#Oberer Leiter\n",
    "\n",
    "Lr(93.15e-6), Lr2(93.15e-6), Lr3(93.15e-6)"
   ]
  },
  {
   "cell_type": "code",
   "execution_count": 42,
   "metadata": {},
   "outputs": [
    {
     "data": {
      "text/plain": [
       "(8.760964863945637e-11, 1.0024452162425034e-10, 8.713842958991227e-11)"
      ]
     },
     "execution_count": 42,
     "metadata": {},
     "output_type": "execute_result"
    }
   ],
   "source": [
    "#Linker Leiter\n",
    "\n",
    "Lr(119.39e-6), Lr2(119.39e-6), Lr3(119.39e-6)"
   ]
  },
  {
   "cell_type": "code",
   "execution_count": 43,
   "metadata": {},
   "outputs": [
    {
     "data": {
      "text/plain": [
       "(2.9716337479952784e-11, 3.302061954717213e-11, 2.925299338766321e-11)"
      ]
     },
     "execution_count": 43,
     "metadata": {},
     "output_type": "execute_result"
    }
   ],
   "source": [
    "#Rechter Leiter\n",
    "\n",
    "Lr(51.93e-6), Lr2(51.93e-6), Lr3(51.93e-6)"
   ]
  },
  {
   "cell_type": "code",
   "execution_count": 44,
   "metadata": {},
   "outputs": [
    {
     "data": {
      "text/plain": [
       "(1.705959210877355e-11, 1.8468525383469756e-11, 1.6598285045895346e-11)"
      ]
     },
     "execution_count": 44,
     "metadata": {},
     "output_type": "execute_result"
    }
   ],
   "source": [
    "#Unterer Leiter\n",
    "\n",
    "Lr(34.48e-6), Lr2(34.48e-6), Lr3(34.48e-6)"
   ]
  },
  {
   "cell_type": "code",
   "execution_count": 45,
   "metadata": {},
   "outputs": [
    {
     "name": "stdout",
     "output_type": "stream",
     "text": [
      "Ls = 6.965e-11\n",
      "Ls2 = 7.617e-11\n",
      "Ls3 = 6.919e-11\n"
     ]
    }
   ],
   "source": [
    "#Gesamt\n",
    "\n",
    "Lh = Lp(8,75e-6,10e-6)/2+Lr(93.15e-6)+Lr(119.39e-6)+Lr(51.93e-6)+Lr(34.48e-6)\n",
    "Lh2 = Lp(8,75e-6,10e-6)/2+Lr2(93.15e-6)+Lr2(119.39e-6)+Lr2(51.93e-6)+Lr2(34.48e-6)\n",
    "Lh3 = Lp(8,75e-6,10e-6)/2+Lr3(93.15e-6)+Lr3(119.39e-6)+Lr3(51.93e-6)+Lr3(34.48e-6)\n",
    "print(f\"Ls = {Lh/4:.3e}\")\n",
    "print(f\"Ls2 = {Lh2/4:.3e}\")\n",
    "print(f\"Ls3 = {Lh3/4:.3e}\")\n"
   ]
  },
  {
   "cell_type": "code",
   "execution_count": null,
   "metadata": {},
   "outputs": [],
   "source": []
  }
 ],
 "metadata": {
  "kernelspec": {
   "display_name": "Python 3",
   "language": "python",
   "name": "python3"
  },
  "language_info": {
   "codemirror_mode": {
    "name": "ipython",
    "version": 3
   },
   "file_extension": ".py",
   "mimetype": "text/x-python",
   "name": "python",
   "nbconvert_exporter": "python",
   "pygments_lexer": "ipython3",
   "version": "3.8.5"
  }
 },
 "nbformat": 4,
 "nbformat_minor": 4
}
