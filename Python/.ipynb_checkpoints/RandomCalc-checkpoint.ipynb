{
 "cells": [
  {
   "cell_type": "code",
   "execution_count": 2,
   "id": "spare-stack",
   "metadata": {},
   "outputs": [],
   "source": [
    "import numpy as np\n",
    "import matplotlib.pyplot as plt"
   ]
  },
  {
   "cell_type": "code",
   "execution_count": 3,
   "id": "informal-skiing",
   "metadata": {},
   "outputs": [],
   "source": [
    "pi = np.pi\n",
    "cos = np.cos\n",
    "sin = np.sin\n",
    "sqrt = np.sqrt\n",
    "h = 6.626e-34   #planck in J/Hz\n",
    "phi0 = 2.067e-15   #Fluxquantum in Vs\n",
    "e0 = 8.854e-12   #epsilon0 in As/Vm\n",
    "mu0 = 1.257e-6   #µ0 in H/m\n",
    "kB = 1.38e-23   #boltzmann cons. in J/K"
   ]
  },
  {
   "cell_type": "markdown",
   "id": "extra-absorption",
   "metadata": {},
   "source": [
    "## 1.2.4 (Noise)"
   ]
  },
  {
   "cell_type": "code",
   "execution_count": 4,
   "id": "sought-bryan",
   "metadata": {},
   "outputs": [
    {
     "data": {
      "text/plain": [
       "(0.6044048513949449, 0.9119282013323058)"
      ]
     },
     "execution_count": 4,
     "metadata": {},
     "output_type": "execute_result"
    }
   ],
   "source": [
    "#epsilon estimate\n",
    "T = 100e-3   #mK\n",
    "C = 3e-12   #pF\n",
    "Ls = 100e-12   #pH\n",
    "Ic = 1e-6   #µA\n",
    "Rs = 10  #Ohm\n",
    "\n",
    "def betaC(Ic,C,Rs):\n",
    "    return 2*Ic*pi*C*Rs**2/phi0\n",
    "\n",
    "def epsilon(T,C,Ls,Rs):\n",
    "    return 16*kB*T*sqrt(Ls*C/betaC(Ic,C,Rs))/h\n",
    "\n",
    "epsilon(T,C,Ls,Rs), betaC(Ic,C,Rs)"
   ]
  },
  {
   "cell_type": "markdown",
   "id": "married-crawford",
   "metadata": {},
   "source": [
    "## 2.2.1 (Amplifier noise)"
   ]
  },
  {
   "cell_type": "code",
   "execution_count": 9,
   "id": "paperback-olive",
   "metadata": {},
   "outputs": [
    {
     "data": {
      "text/plain": [
       "4.127047976459687e-06"
      ]
     },
     "execution_count": 9,
     "metadata": {},
     "output_type": "execute_result"
    }
   ],
   "source": [
    "Sphi_s = (1e-6)**2   #muPhi0**2/hz\n",
    "Sv = (0.33e-9)**2\n",
    "Si = (2.6e-12)**2\n",
    "Vphi = 80e-6\n",
    "Iphi = 20e-6\n",
    "\n",
    "def singlestage_noise():\n",
    "    return sqrt(Sv/Vphi**2 + Si/Iphi**2)\n",
    "\n",
    "singlestage_noise()"
   ]
  },
  {
   "cell_type": "code",
   "execution_count": null,
   "id": "sharing-modification",
   "metadata": {},
   "outputs": [],
   "source": []
  }
 ],
 "metadata": {
  "kernelspec": {
   "display_name": "Python 3",
   "language": "python",
   "name": "python3"
  },
  "language_info": {
   "codemirror_mode": {
    "name": "ipython",
    "version": 3
   },
   "file_extension": ".py",
   "mimetype": "text/x-python",
   "name": "python",
   "nbconvert_exporter": "python",
   "pygments_lexer": "ipython3",
   "version": "3.7.3"
  }
 },
 "nbformat": 4,
 "nbformat_minor": 5
}
