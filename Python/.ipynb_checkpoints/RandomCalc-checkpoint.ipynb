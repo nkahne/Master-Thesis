{
 "cells": [
  {
   "cell_type": "code",
   "execution_count": 109,
   "id": "boring-anime",
   "metadata": {
    "tags": []
   },
   "outputs": [],
   "source": [
    "import numpy as np\n",
    "import matplotlib.pyplot as plt"
   ]
  },
  {
   "cell_type": "code",
   "execution_count": 110,
   "id": "overall-subject",
   "metadata": {
    "tags": []
   },
   "outputs": [],
   "source": [
    "pi = np.pi\n",
    "cos = np.cos\n",
    "sin = np.sin\n",
    "sqrt = np.sqrt\n",
    "h = 6.626e-34   #planck in J/Hz\n",
    "phi0 = 2.067e-15   #Fluxquantum in Vs\n",
    "e0 = 8.854e-12   #epsilon0 in As/Vm\n",
    "mu0 = 1.257e-6   #µ0 in H/m\n",
    "kB = 1.38e-23   #boltzmann cons. in J/K"
   ]
  },
  {
   "cell_type": "code",
   "execution_count": 111,
   "id": "brief-disclosure",
   "metadata": {},
   "outputs": [],
   "source": [
    "plt.rcParams['figure.figsize'] = [10, 10]\n",
    "plt.rcParams['legend.fontsize'] = 15\n",
    "plt.rcParams['axes.labelsize'] = 25\n",
    "plt.rcParams['font.size'] = 30\n",
    "plt.rcParams['xtick.labelsize'] = 20\n",
    "plt.rcParams['ytick.labelsize'] = 20\n",
    "plt.rcParams['ytick.direction'] = 'in'\n",
    "plt.rcParams['xtick.direction'] = 'in'\n",
    "plt.rcParams['legend.frameon'] = False\n",
    "plt.rcParams['axes.prop_cycle'] = plt.cycler(color=['#1b85b8','#ae5a41','#559e83','#c3cb71','#fb9062'])\n"
   ]
  },
  {
   "cell_type": "markdown",
   "id": "trained-chorus",
   "metadata": {},
   "source": [
    "## 1.2.4 (Noise)"
   ]
  },
  {
   "cell_type": "code",
   "execution_count": 3,
   "id": "motivated-dryer",
   "metadata": {},
   "outputs": [
    {
     "data": {
      "text/plain": [
       "(0.6044048513949449, 0.9119282013323058)"
      ]
     },
     "execution_count": 3,
     "metadata": {},
     "output_type": "execute_result"
    }
   ],
   "source": [
    "#epsilon estimate\n",
    "T = 100e-3   #mK\n",
    "C = 3e-12   #pF\n",
    "Ls = 100e-12   #pH\n",
    "Ic = 1e-6   #µA\n",
    "Rs = 10  #Ohm\n",
    "\n",
    "def betaC(Ic,C,Rs):\n",
    "    return 2*Ic*pi*C*Rs**2/phi0\n",
    "\n",
    "def epsilon(T,C,Ls,Rs):\n",
    "    return 16*kB*T*sqrt(Ls*C/betaC(Ic,C,Rs))/h\n",
    "\n",
    "epsilon(T,C,Ls,Rs), betaC(Ic,C,Rs)"
   ]
  },
  {
   "cell_type": "markdown",
   "id": "roman-symbol",
   "metadata": {},
   "source": [
    "## 2.2.1 (Amplifier noise)"
   ]
  },
  {
   "cell_type": "code",
   "execution_count": 4,
   "id": "fluid-bunny",
   "metadata": {},
   "outputs": [
    {
     "data": {
      "text/plain": [
       "(3.6946141356183754e-08, 2.5781249999999997e-07)"
      ]
     },
     "execution_count": 4,
     "metadata": {},
     "output_type": "execute_result"
    }
   ],
   "source": [
    "Sphi_s = (1e-6)**2   #muPhi0**2/hz\n",
    "Sv = (0.33e-9)**2\n",
    "Si = (2.6e-12)**2\n",
    "Vphi = 600e-6\n",
    "Iphi = 12e-6\n",
    "\n",
    "def singlestage_noise():\n",
    "    return sqrt(Sv/Vphi**2/16**2 + Si/Iphi**2/16**2)\n",
    "\n",
    "singlestage_noise(), sqrt(Sv)/(16*80e-6)"
   ]
  },
  {
   "cell_type": "markdown",
   "id": "integral-queensland",
   "metadata": {},
   "source": [
    "## 2.2.2 (Amplifier noise - 2stage)"
   ]
  },
  {
   "cell_type": "code",
   "execution_count": 5,
   "id": "increasing-handbook",
   "metadata": {},
   "outputs": [
    {
     "data": {
      "text/plain": [
       "(6.964958281698117e-08, 1.0941902337567805e-08, 6.896714200648797e-08)"
      ]
     },
     "execution_count": 5,
     "metadata": {},
     "output_type": "execute_result"
    }
   ],
   "source": [
    "Gphi = pi\n",
    "def twostage_rta_noise():\n",
    "    return sqrt(Sv/Vphi**2/Gphi**2/18**2 + Si/Iphi**2/Gphi**2)\n",
    "twostage_rta_noise(), sqrt(Sv/Vphi**2/Gphi**2/16**2), sqrt(Si/Iphi**2/Gphi**2)"
   ]
  },
  {
   "cell_type": "markdown",
   "id": "rental-simple",
   "metadata": {},
   "source": [
    "## 2.3 (Flux-to-Flux transter maximization)"
   ]
  },
  {
   "cell_type": "code",
   "execution_count": 6,
   "id": "comparable-objective",
   "metadata": {
    "tags": []
   },
   "outputs": [],
   "source": [
    "Lm = 13.3e-9\n",
    "Lpar = 0.5e-9\n",
    "Ls = 106e-12\n",
    "kis = 0.7\n",
    "def Li_theo(n):\n",
    "    return 1.64e-9*n**2\n",
    "#Li=160e-9\n",
    "\n",
    "def ftf(Li):\n",
    "    return kis*sqrt(Ls*Li)/(Lm+2*(Li+Lpar))"
   ]
  },
  {
   "cell_type": "code",
   "execution_count": 7,
   "id": "former-technician",
   "metadata": {
    "tags": []
   },
   "outputs": [
    {
     "data": {
      "text/plain": [
       "<matplotlib.collections.PathCollection at 0x7f6370832780>"
      ]
     },
     "execution_count": 7,
     "metadata": {},
     "output_type": "execute_result"
    },
    {
     "data": {
      "image/png": "[encoded data removed]",
      "text/plain": [
       "<Figure size 432x288 with 1 Axes>"
      ]
     },
     "metadata": {
      "needs_background": "light"
     },
     "output_type": "display_data"
    }
   ],
   "source": [
    "n=np.arange(1,11,0.01)\n",
    "plt.scatter(n,ftf(Li_theo(n)), s=5)\n",
    "\n",
    "#plot for results chapter?"
   ]
  },
  {
   "cell_type": "code",
   "execution_count": 8,
   "id": "classified-header",
   "metadata": {
    "tags": []
   },
   "outputs": [
    {
     "data": {
      "text/plain": [
       "2.0900000000000007"
      ]
     },
     "execution_count": 8,
     "metadata": {},
     "output_type": "execute_result"
    }
   ],
   "source": [
    "n[np.argmax(ftf(Li_theo(n)))]"
   ]
  },
  {
   "cell_type": "code",
   "execution_count": 84,
   "id": "mature-fancy",
   "metadata": {},
   "outputs": [
    {
     "data": {
      "text/plain": [
       "5.08"
      ]
     },
     "execution_count": 84,
     "metadata": {},
     "output_type": "execute_result"
    }
   ],
   "source": [
    "#with measured Li from fabienne\n",
    "1.27*4"
   ]
  },
  {
   "cell_type": "code",
   "execution_count": 85,
   "id": "proper-orientation",
   "metadata": {
    "tags": []
   },
   "outputs": [
    {
     "data": {
      "text/plain": [
       "6.263636363636362e-10"
      ]
     },
     "execution_count": 85,
     "metadata": {},
     "output_type": "execute_result"
    }
   ],
   "source": [
    "#preliminary Mis\n",
    "(3.3e-6/2.067e-15)**-1"
   ]
  },
  {
   "cell_type": "code",
   "execution_count": 10,
   "id": "incorporate-grass",
   "metadata": {},
   "outputs": [
    {
     "data": {
      "text/plain": [
       "0.7050193314634637"
      ]
     },
     "execution_count": 10,
     "metadata": {},
     "output_type": "execute_result"
    }
   ],
   "source": [
    "#needs to be updated with measured values\n",
    "626e-12/sqrt(6.57e-9*120e-12)"
   ]
  },
  {
   "cell_type": "code",
   "execution_count": 11,
   "id": "racial-lawrence",
   "metadata": {},
   "outputs": [
    {
     "data": {
      "text/plain": [
       "0.0228134110787172"
      ]
     },
     "execution_count": 11,
     "metadata": {},
     "output_type": "execute_result"
    }
   ],
   "source": [
    "626e-12/(2*(0.5e-9+6.65e-9+6.57e-9))"
   ]
  },
  {
   "cell_type": "code",
   "execution_count": 12,
   "id": "fifty-optimum",
   "metadata": {},
   "outputs": [
    {
     "data": {
      "text/plain": [
       "1.169230769230769"
      ]
     },
     "execution_count": 12,
     "metadata": {},
     "output_type": "execute_result"
    }
   ],
   "source": [
    "2.28/1.95"
   ]
  },
  {
   "cell_type": "code",
   "execution_count": 13,
   "id": "micro-personal",
   "metadata": {},
   "outputs": [
    {
     "data": {
      "text/plain": [
       "0.019477434679334917"
      ]
     },
     "execution_count": 13,
     "metadata": {},
     "output_type": "execute_result"
    }
   ],
   "source": [
    "328e-12/(2*(0.5e-9+6.65e-9+1.27e-9))"
   ]
  },
  {
   "cell_type": "markdown",
   "id": "social-advertiser",
   "metadata": {},
   "source": [
    "## 3.1 (Flux-to-transfer + extr. energy sens. [theo]) "
   ]
  },
  {
   "cell_type": "code",
   "execution_count": 14,
   "id": "prepared-universal",
   "metadata": {},
   "outputs": [
    {
     "name": "stdout",
     "output_type": "stream",
     "text": [
      "theo. obtainable energy sens.:  0.534h\n",
      "theo. obtainable deltaS/deltaP corresponnding to single Lp: 5.38%\n",
      "theo. obtainable deltaS/delta corresponnding to parallel meander Lp: 2.69%\n"
     ]
    }
   ],
   "source": [
    "phi0 = 2.0678e-15\n",
    "kb = 1.38e-23 \n",
    "h = 6.626e-34\n",
    "T = 20e-3\n",
    "Ic = 6e-6\n",
    "C = 0.95e-12\n",
    "Ls = 147e-12\n",
    "Lpar = 0.5e-9\n",
    "Lm = 13.3e-9\n",
    "Lp = Lm/2\n",
    "Li_opt = Lp+Lpar\n",
    "kis = 0.75\n",
    "sin = Li_opt/(Li_opt + Lpar + Lp)\n",
    "\n",
    "def betaL(Ls):\n",
    "    return 2*Ic*Ls/phi0\n",
    "\n",
    "def betaC(Rs):\n",
    "    return 2*np.pi*Ic*Rs**2*C/phi0\n",
    "\n",
    "def ep(Rs,Ls):\n",
    "    return kb*T*np.sqrt(betaL(Ls)*phi0*C/(2*Ic))*np.sqrt(np.pi*betaL(Ls)/betaC(Rs))*((1-kis**2*sin)**2+np.sqrt(2)*(1+betaL(Ls))**2/betaL(Ls)**2)*(2*Lpar+Lm)/(kis**2*sin**2*Lm)\n",
    "\n",
    "print(f'theo. obtainable energy sens.:  {ep(6.3,147e-12)/h:.3}' + 'h')\n",
    "print(f'theo. obtainable deltaS/deltaP corresponnding to single Lp: {2*ftf(Li_opt)*100:.3}' + '%')\n",
    "print(f'theo. obtainable deltaS/delta corresponnding to parallel meander Lp: {ftf(Li_opt)*100:.3}' + '%')"
   ]
  },
  {
   "cell_type": "code",
   "execution_count": 15,
   "id": "lightweight-dictionary",
   "metadata": {},
   "outputs": [
    {
     "data": {
      "text/plain": [
       "7.15e-09"
      ]
     },
     "execution_count": 15,
     "metadata": {},
     "output_type": "execute_result"
    }
   ],
   "source": [
    "Li_opt"
   ]
  },
  {
   "cell_type": "code",
   "execution_count": 16,
   "id": "extended-mention",
   "metadata": {},
   "outputs": [
    {
     "data": {
      "text/plain": [
       "7.163683999999998e-09"
      ]
     },
     "execution_count": 16,
     "metadata": {},
     "output_type": "execute_result"
    }
   ],
   "source": [
    "Li_theo(2.09)"
   ]
  },
  {
   "cell_type": "code",
   "execution_count": 17,
   "id": "hindu-server",
   "metadata": {},
   "outputs": [],
   "source": [
    "#Energieausflösung detektor???"
   ]
  },
  {
   "cell_type": "code",
   "execution_count": 18,
   "id": "weighted-dictionary",
   "metadata": {},
   "outputs": [
    {
     "data": {
      "text/plain": [
       "0.6235175669954788"
      ]
     },
     "execution_count": 18,
     "metadata": {},
     "output_type": "execute_result"
    }
   ],
   "source": [
    "betaC(6)"
   ]
  },
  {
   "cell_type": "code",
   "execution_count": 19,
   "id": "dietary-oregon",
   "metadata": {},
   "outputs": [],
   "source": [
    "Mis_theo_max = kis*sqrt(Li_opt*Ls)"
   ]
  },
  {
   "cell_type": "markdown",
   "id": "moderate-injury",
   "metadata": {},
   "source": [
    "## 3.1 (Critical B-Field)"
   ]
  },
  {
   "cell_type": "code",
   "execution_count": 20,
   "id": "cooperative-africa",
   "metadata": {},
   "outputs": [
    {
     "data": {
      "text/plain": [
       "[<matplotlib.lines.Line2D at 0x7f63393d2b70>]"
      ]
     },
     "execution_count": 20,
     "metadata": {},
     "output_type": "execute_result"
    },
    {
     "data": {
      "image/png": "[encoded data removed]",
      "text/plain": [
       "<Figure size 432x288 with 1 Axes>"
      ]
     },
     "metadata": {
      "needs_background": "light"
     },
     "output_type": "display_data"
    }
   ],
   "source": [
    "def Bcrit(w):\n",
    "    return 1.65*phi0/w**2\n",
    "w = np.linspace(1,21,2000)*1e-6\n",
    "plt.plot(w,Bcrit(w)*1e6)"
   ]
  },
  {
   "cell_type": "code",
   "execution_count": 21,
   "id": "sunrise-killer",
   "metadata": {},
   "outputs": [
    {
     "data": {
      "text/plain": [
       "7.245019509449764e-06"
      ]
     },
     "execution_count": 21,
     "metadata": {},
     "output_type": "execute_result"
    }
   ],
   "source": [
    "def wi(B):\n",
    "    return sqrt(1.65*phi0/B)\n",
    "wi(65e-6)"
   ]
  },
  {
   "cell_type": "code",
   "execution_count": 22,
   "id": "fatal-assessment",
   "metadata": {},
   "outputs": [
    {
     "data": {
      "text/plain": [
       "8.47457627118644e-06"
      ]
     },
     "execution_count": 22,
     "metadata": {},
     "output_type": "execute_result"
    }
   ],
   "source": [
    "1/(11.8*1e4)"
   ]
  },
  {
   "cell_type": "code",
   "execution_count": 23,
   "id": "individual-korean",
   "metadata": {},
   "outputs": [
    {
     "data": {
      "text/plain": [
       "43.333333333333336"
      ]
     },
     "execution_count": 23,
     "metadata": {},
     "output_type": "execute_result"
    }
   ],
   "source": [
    "4*26/2.4\n"
   ]
  },
  {
   "cell_type": "markdown",
   "id": "tutorial-answer",
   "metadata": {},
   "source": [
    "## 4.1 "
   ]
  },
  {
   "cell_type": "code",
   "execution_count": 25,
   "id": "rational-question",
   "metadata": {},
   "outputs": [
    {
     "data": {
      "text/plain": [
       "(5.807607831226785, 5.8075)"
      ]
     },
     "execution_count": 25,
     "metadata": {},
     "output_type": "execute_result"
    }
   ],
   "source": [
    "#Ic (Ib)\n",
    "ic_med=5.84\n",
    "def ic(ib,T):\n",
    "    return ib/2 + kB*T/phi0*(1+sqrt(1+ib*phi0/(kB*T)))\n",
    "\n",
    "ic(11.615,0.15), 11.615/2\n",
    "#this or median of all 10 Ic's?    "
   ]
  },
  {
   "cell_type": "code",
   "execution_count": 26,
   "id": "alive-residence",
   "metadata": {},
   "outputs": [
    {
     "data": {
      "text/plain": [
       "28.839506172839506"
      ]
     },
     "execution_count": 26,
     "metadata": {},
     "output_type": "execute_result"
    }
   ],
   "source": [
    "jc=ic_med*1e-6/(4.5e-6)**2\n",
    "jc/1e4  #in A/cm**2\n"
   ]
  },
  {
   "cell_type": "code",
   "execution_count": 27,
   "id": "filled-august",
   "metadata": {},
   "outputs": [
    {
     "data": {
      "text/plain": [
       "(0.02666666666666669, 0.02664902664902665)"
      ]
     },
     "execution_count": 27,
     "metadata": {},
     "output_type": "execute_result"
    }
   ],
   "source": [
    "#ic and jc deviations\n",
    "(6-5.84)/6, (29.6296-28.84)/29.6296"
   ]
  },
  {
   "cell_type": "code",
   "execution_count": 87,
   "id": "legitimate-waters",
   "metadata": {},
   "outputs": [
    {
     "data": {
      "text/plain": [
       "(1.0, 0.19574757012008268)"
      ]
     },
     "execution_count": 87,
     "metadata": {},
     "output_type": "execute_result"
    },
    {
     "data": {
      "image/png": "[encoded data removed]",
      "text/plain": [
       "<Figure size 360x360 with 1 Axes>"
      ]
     },
     "metadata": {
      "needs_background": "light"
     },
     "output_type": "display_data"
    }
   ],
   "source": [
    "# betaL\n",
    "# y-werte zu niedrig, vermutlich da formeln nur für grenzwerte und nicht allgemein gelten\n",
    "\n",
    "Ic=5.84e-6\n",
    "phi = np.linspace(0,1,1001)*2.067e-15\n",
    "\n",
    "def PhiExt(x,betaL):\n",
    "        return x + phi0*betaL*np.sin(np.pi*x/phi0)/2  #verhältnis von phi und phi_ext, abhängig von betaL\n",
    "\n",
    "#erhalte index für phi wert, für den phi_ext/phi0=0.5\n",
    "phi_index=np.argmin(np.abs(PhiExt(phi,4)/phi0-1/2))   \n",
    "\n",
    "betas=np.linspace(0,100,10001)    #betaL von 0 bis 2\n",
    "\n",
    "def Ism(phi):\n",
    "    return 2*Ic*abs(np.cos(pi*phi/phi0))      #maixmaler suprastrom\n",
    "\n",
    "phi_arr = np.array([])\n",
    "\n",
    "for b in betas:\n",
    "    phi_index=np.argmin(np.abs(PhiExt(phi,b)/phi0-1/2))   #siehe oben\n",
    "    phi_arr = np.append(phi_arr,phi[phi_index])\n",
    "\n",
    "deltaI=2*Ic-Ism(phi_arr)\n",
    "def mod(delta):\n",
    "    return deltaI/(2*Ic)\n",
    "plt.plot(betas,mod(deltaI))\n",
    "plt.ylim(0,1)\n",
    "plt.ylabel(r'$\\Delta I / 2I_c$')\n",
    "plt.xlabel(r'$\\beta_L$')\n",
    "plt.rcParams['figure.figsize'] = [5, 5]\n",
    "plt.xscale('log')\n",
    "plt.xticks([1e-1,1e0,1e1])\n",
    "plt.show\n",
    "\n",
    "betas[100], mod(deltaI)[100]"
   ]
  },
  {
   "cell_type": "code",
   "execution_count": 113,
   "id": "noticed-mauritius",
   "metadata": {},
   "outputs": [],
   "source": [
    "# betaL from Tesche\n",
    "\n",
    "deltaI = 7.185   #median\n",
    "deltaImin = 6.09   #min meas\n",
    "deltaImax = 7.73  #max meas\n",
    "deltaIi2mean = (7.05+6.74)/2   #mean fabienne (2ch)\n",
    "deltaIi2max = 7.05   #max fabienne\n",
    "deltaIi2min = 6.74   #min fabienne\n",
    "betaL = np.array([0.6,0.85,0.52,0.82,0.80,0.87])   #corresponding to same order as deltaI's above\n"
   ]
  },
  {
   "cell_type": "code",
   "execution_count": 122,
   "id": "tracked-respondent",
   "metadata": {},
   "outputs": [
    {
     "data": {
      "text/plain": [
       "0.614102564102564"
      ]
     },
     "execution_count": 122,
     "metadata": {},
     "output_type": "execute_result"
    }
   ],
   "source": [
    "# array flux\n",
    "Mis = 1/11.7\n",
    "deltaPhi = deltaI*Mis \n",
    "deltaPhi"
   ]
  },
  {
   "cell_type": "code",
   "execution_count": 123,
   "id": "middle-former",
   "metadata": {},
   "outputs": [
    {
     "data": {
      "text/plain": [
       "129.98006134969322"
      ]
     },
     "execution_count": 123,
     "metadata": {},
     "output_type": "execute_result"
    }
   ],
   "source": [
    "# Ls\n",
    "Ic = 5.84e-6\n",
    "Ici2 = 6.52e-6\n",
    "def Ls_meas(beta,Ic):\n",
    "    return beta*phi0/(2*Ic)\n",
    "Ls_meas(betaL[3],Ici2)*1e12"
   ]
  },
  {
   "cell_type": "code",
   "execution_count": 124,
   "id": "special-swing",
   "metadata": {},
   "outputs": [
    {
     "data": {
      "text/plain": [
       "0.2076923076923077"
      ]
     },
     "execution_count": 124,
     "metadata": {},
     "output_type": "execute_result"
    }
   ],
   "source": [
    "(130-103)/130"
   ]
  },
  {
   "cell_type": "code",
   "execution_count": null,
   "id": "resident-petersburg",
   "metadata": {},
   "outputs": [],
   "source": [
    "#Cjj\n",
    "\n",
    "C_inmuFpercm2=1/(0.132-0.053*np.log10(jc/1e7))\n",
    "C_meas=C_inmuFpercm2*1e4*(4.5e-6)**2*1e-6\n",
    "C_meas"
   ]
  },
  {
   "cell_type": "code",
   "execution_count": null,
   "id": "coastal-category",
   "metadata": {},
   "outputs": [],
   "source": [
    "#betaC\n",
    "\n",
    "def betaC_meas(R,C):\n",
    "    return 2*ic_med*1e-6*R**2*pi*C/phi0\n",
    "betaC_meas(6,C_meas)"
   ]
  },
  {
   "cell_type": "code",
   "execution_count": null,
   "id": "sought-softball",
   "metadata": {},
   "outputs": [],
   "source": [
    "#Mfs, Mis\n",
    "\n",
    "Mfs=phi0/40.59e-6\n",
    "Mis=phi0/3.3e-6\n",
    "\n",
    "Mfs,Mis"
   ]
  },
  {
   "cell_type": "code",
   "execution_count": 134,
   "id": "invalid-possibility",
   "metadata": {},
   "outputs": [
    {
     "data": {
      "text/plain": [
       "(1.57125e-13, 620, 724)"
      ]
     },
     "execution_count": 134,
     "metadata": {},
     "output_type": "execute_result"
    }
   ],
   "source": [
    "#Li meas\n",
    "\n",
    "lstr_para_int = 454+185+85\n",
    "lstr_para = 492+68+60\n",
    "\n",
    "def Lstrip(l,g,w):   #aus Diss D.H p.45\n",
    "    return mu0*l*g/w\n",
    "Lstrip(1e-6,375e-9,3e-6), lstr_para, lstr_para_int"
   ]
  },
  {
   "cell_type": "code",
   "execution_count": 135,
   "id": "molecular-opportunity",
   "metadata": {},
   "outputs": [
    {
     "data": {
      "text/plain": [
       "(9.74175e-11, 1.137585e-10)"
      ]
     },
     "execution_count": 135,
     "metadata": {},
     "output_type": "execute_result"
    }
   ],
   "source": [
    "Lstrip(1e-6,375e-9,3e-6)*lstr_para, Lstrip(1e-6,375e-9,3e-6)*lstr_para_int"
   ]
  },
  {
   "cell_type": "code",
   "execution_count": 144,
   "id": "paperback-conclusion",
   "metadata": {},
   "outputs": [
    {
     "data": {
      "text/plain": [
       "2.70255e-10"
      ]
     },
     "execution_count": 144,
     "metadata": {},
     "output_type": "execute_result"
    }
   ],
   "source": [
    "Lstrip(1.72e-3,375e-9,3e-6)"
   ]
  },
  {
   "cell_type": "code",
   "execution_count": 142,
   "id": "intensive-system",
   "metadata": {},
   "outputs": [
    {
     "data": {
      "text/plain": [
       "4.45091e-09"
      ]
     },
     "execution_count": 142,
     "metadata": {},
     "output_type": "execute_result"
    }
   ],
   "source": [
    "Li_loop=(1.27e-9-0.17e-12*1.72e3)/4\n",
    "16*Li_loop+Lstrip(3.44e-3,375e-9,3e-6)"
   ]
  },
  {
   "cell_type": "code",
   "execution_count": 143,
   "id": "polished-hampton",
   "metadata": {},
   "outputs": [
    {
     "data": {
      "text/plain": [
       "5.08"
      ]
     },
     "execution_count": 143,
     "metadata": {},
     "output_type": "execute_result"
    }
   ],
   "source": [
    "4*1.27"
   ]
  },
  {
   "cell_type": "code",
   "execution_count": 145,
   "id": "median-mixer",
   "metadata": {},
   "outputs": [
    {
     "data": {
      "text/plain": [
       "4.5389000000000005e-09"
      ]
     },
     "execution_count": 145,
     "metadata": {},
     "output_type": "execute_result"
    }
   ],
   "source": [
    "16*Li_loop+Lstrip(4e-3,375e-9,3e-6)"
   ]
  },
  {
   "cell_type": "code",
   "execution_count": null,
   "id": "worst-african",
   "metadata": {},
   "outputs": [],
   "source": []
  }
 ],
 "metadata": {
  "kernelspec": {
   "display_name": "Python 3",
   "language": "python",
   "name": "python3"
  },
  "language_info": {
   "codemirror_mode": {
    "name": "ipython",
    "version": 3
   },
   "file_extension": ".py",
   "mimetype": "text/x-python",
   "name": "python",
   "nbconvert_exporter": "python",
   "pygments_lexer": "ipython3",
   "version": "3.7.3"
  }
 },
 "nbformat": 4,
 "nbformat_minor": 5
}
