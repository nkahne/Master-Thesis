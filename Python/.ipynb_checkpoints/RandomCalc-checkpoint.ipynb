{
 "cells": [
  {
   "cell_type": "code",
   "execution_count": 51,
   "id": "intensive-shareware",
   "metadata": {
    "tags": []
   },
   "outputs": [],
   "source": [
    "import numpy as np\n",
    "import matplotlib.pyplot as plt"
   ]
  },
  {
   "cell_type": "code",
   "execution_count": 52,
   "id": "comic-fellow",
   "metadata": {
    "tags": []
   },
   "outputs": [],
   "source": [
    "pi = np.pi\n",
    "cos = np.cos\n",
    "sin = np.sin\n",
    "sqrt = np.sqrt\n",
    "h = 6.626e-34   #planck in J/Hz\n",
    "phi0 = 2.067e-15   #Fluxquantum in Vs\n",
    "e0 = 8.854e-12   #epsilon0 in As/Vm\n",
    "mu0 = 1.257e-6   #µ0 in H/m\n",
    "kB = 1.38e-23   #boltzmann cons. in J/K"
   ]
  },
  {
   "cell_type": "markdown",
   "id": "breeding-recovery",
   "metadata": {},
   "source": [
    "## 1.2.4 (Noise)"
   ]
  },
  {
   "cell_type": "code",
   "execution_count": 53,
   "id": "statewide-association",
   "metadata": {},
   "outputs": [
    {
     "data": {
      "text/plain": [
       "(0.6044048513949449, 0.9119282013323058)"
      ]
     },
     "execution_count": 53,
     "metadata": {},
     "output_type": "execute_result"
    }
   ],
   "source": [
    "#epsilon estimate\n",
    "T = 100e-3   #mK\n",
    "C = 3e-12   #pF\n",
    "Ls = 100e-12   #pH\n",
    "Ic = 1e-6   #µA\n",
    "Rs = 10  #Ohm\n",
    "\n",
    "def betaC(Ic,C,Rs):\n",
    "    return 2*Ic*pi*C*Rs**2/phi0\n",
    "\n",
    "def epsilon(T,C,Ls,Rs):\n",
    "    return 16*kB*T*sqrt(Ls*C/betaC(Ic,C,Rs))/h\n",
    "\n",
    "epsilon(T,C,Ls,Rs), betaC(Ic,C,Rs)"
   ]
  },
  {
   "cell_type": "markdown",
   "id": "about-train",
   "metadata": {},
   "source": [
    "## 2.2.1 (Amplifier noise)"
   ]
  },
  {
   "cell_type": "code",
   "execution_count": 54,
   "id": "serial-artist",
   "metadata": {},
   "outputs": [
    {
     "data": {
      "text/plain": [
       "(3.6946141356183754e-08, 2.5781249999999997e-07)"
      ]
     },
     "execution_count": 54,
     "metadata": {},
     "output_type": "execute_result"
    }
   ],
   "source": [
    "Sphi_s = (1e-6)**2   #muPhi0**2/hz\n",
    "Sv = (0.33e-9)**2\n",
    "Si = (2.6e-12)**2\n",
    "Vphi = 600e-6\n",
    "Iphi = 12e-6\n",
    "\n",
    "def singlestage_noise():\n",
    "    return sqrt(Sv/Vphi**2/16**2 + Si/Iphi**2/16**2)\n",
    "\n",
    "singlestage_noise(), sqrt(Sv)/(16*80e-6)"
   ]
  },
  {
   "cell_type": "markdown",
   "id": "forced-independence",
   "metadata": {},
   "source": [
    "## 2.2.2 (Amplifier noise - 2stage)"
   ]
  },
  {
   "cell_type": "code",
   "execution_count": 55,
   "id": "reserved-enemy",
   "metadata": {},
   "outputs": [
    {
     "data": {
      "text/plain": [
       "(6.964958281698117e-08, 1.0941902337567805e-08, 6.896714200648797e-08)"
      ]
     },
     "execution_count": 55,
     "metadata": {},
     "output_type": "execute_result"
    }
   ],
   "source": [
    "Gphi = pi\n",
    "def twostage_rta_noise():\n",
    "    return sqrt(Sv/Vphi**2/Gphi**2/18**2 + Si/Iphi**2/Gphi**2)\n",
    "twostage_rta_noise(), sqrt(Sv/Vphi**2/Gphi**2/16**2), sqrt(Si/Iphi**2/Gphi**2)"
   ]
  },
  {
   "cell_type": "markdown",
   "id": "helpful-absorption",
   "metadata": {},
   "source": [
    "## 2.3 (Flux-toFlux transter maximization)"
   ]
  },
  {
   "cell_type": "code",
   "execution_count": 81,
   "id": "lonely-tennis",
   "metadata": {
    "tags": []
   },
   "outputs": [
    {
     "data": {
      "text/plain": [
       "0.03129151291512915"
      ]
     },
     "execution_count": 81,
     "metadata": {},
     "output_type": "execute_result"
    }
   ],
   "source": [
    "Lm = 13.3e-9\n",
    "Lpar = 0.5e-9\n",
    "Ls = 106e-12\n",
    "def Li(n):\n",
    "    return 1.6e-9*n**2\n",
    "#Li=160e-9\n",
    "\n",
    "def ftf(Li,n):\n",
    "    return n*Ls*4/(Lm+2*(Li+Lpar))\n",
    "ftf(Li(2),2)"
   ]
  },
  {
   "cell_type": "code",
   "execution_count": 82,
   "id": "pleased-armenia",
   "metadata": {
    "tags": []
   },
   "outputs": [
    {
     "data": {
      "text/plain": [
       "<matplotlib.collections.PathCollection at 0x7f2c1087c9e8>"
      ]
     },
     "execution_count": 82,
     "metadata": {},
     "output_type": "execute_result"
    },
    {
     "data": {
      "image/png": "[encoded data removed]",
      "text/plain": [
       "<Figure size 432x288 with 1 Axes>"
      ]
     },
     "metadata": {
      "needs_background": "light"
     },
     "output_type": "display_data"
    }
   ],
   "source": [
    "n=np.arange(1,11,0.01)\n",
    "plt.scatter(n,ftf(Li(n),n), s=5)"
   ]
  },
  {
   "cell_type": "code",
   "execution_count": 58,
   "id": "subtle-holocaust",
   "metadata": {
    "tags": []
   },
   "outputs": [
    {
     "data": {
      "text/plain": [
       "2.110000000000001"
      ]
     },
     "execution_count": 58,
     "metadata": {},
     "output_type": "execute_result"
    }
   ],
   "source": [
    "n[np.argmax(ftf(Li(n),n))]"
   ]
  },
  {
   "cell_type": "code",
   "execution_count": 61,
   "id": "canadian-harassment",
   "metadata": {
    "tags": []
   },
   "outputs": [
    {
     "data": {
      "text/plain": [
       "6.263636363636362e-10"
      ]
     },
     "execution_count": 61,
     "metadata": {},
     "output_type": "execute_result"
    }
   ],
   "source": [
    "(3.3e-6/2.067e-15)**-1"
   ]
  },
  {
   "cell_type": "code",
   "execution_count": 62,
   "id": "dynamic-yellow",
   "metadata": {},
   "outputs": [
    {
     "data": {
      "text/plain": [
       "0.7050193314634637"
      ]
     },
     "execution_count": 62,
     "metadata": {},
     "output_type": "execute_result"
    }
   ],
   "source": [
    "626e-12/sqrt(6.57e-9*120e-12)"
   ]
  },
  {
   "cell_type": "code",
   "execution_count": 64,
   "id": "accurate-vacuum",
   "metadata": {},
   "outputs": [
    {
     "data": {
      "text/plain": [
       "0.0228134110787172"
      ]
     },
     "execution_count": 64,
     "metadata": {},
     "output_type": "execute_result"
    }
   ],
   "source": [
    "626e-12/(2*(0.5e-9+6.65e-9+6.57e-9))"
   ]
  },
  {
   "cell_type": "code",
   "execution_count": 71,
   "id": "labeled-generic",
   "metadata": {},
   "outputs": [
    {
     "data": {
      "text/plain": [
       "1.169230769230769"
      ]
     },
     "execution_count": 71,
     "metadata": {},
     "output_type": "execute_result"
    }
   ],
   "source": [
    "2.28/1.95"
   ]
  },
  {
   "cell_type": "code",
   "execution_count": 74,
   "id": "brown-deviation",
   "metadata": {},
   "outputs": [
    {
     "data": {
      "text/plain": [
       "0.019477434679334917"
      ]
     },
     "execution_count": 74,
     "metadata": {},
     "output_type": "execute_result"
    }
   ],
   "source": [
    "328e-12/(2*(0.5e-9+6.65e-9+1.27e-9))"
   ]
  },
  {
   "cell_type": "code",
   "execution_count": 75,
   "id": "promising-financing",
   "metadata": {},
   "outputs": [
    {
     "data": {
      "text/plain": [
       "5.08"
      ]
     },
     "execution_count": 75,
     "metadata": {},
     "output_type": "execute_result"
    }
   ],
   "source": [
    "1.27*4"
   ]
  },
  {
   "cell_type": "code",
   "execution_count": 78,
   "id": "owned-scope",
   "metadata": {},
   "outputs": [
    {
     "data": {
      "text/plain": [
       "6.56"
      ]
     },
     "execution_count": 78,
     "metadata": {},
     "output_type": "execute_result"
    }
   ],
   "source": [
    "4*1.64"
   ]
  },
  {
   "cell_type": "code",
   "execution_count": 79,
   "id": "secret-large",
   "metadata": {},
   "outputs": [
    {
     "data": {
      "text/plain": [
       "93.80000000000001"
      ]
     },
     "execution_count": 79,
     "metadata": {},
     "output_type": "execute_result"
    }
   ],
   "source": [
    "670*0.14"
   ]
  },
  {
   "cell_type": "code",
   "execution_count": 80,
   "id": "immune-spokesman",
   "metadata": {},
   "outputs": [
    {
     "data": {
      "text/plain": [
       "1.27"
      ]
     },
     "execution_count": 80,
     "metadata": {},
     "output_type": "execute_result"
    }
   ],
   "source": [
    "1.363-0.093"
   ]
  },
  {
   "cell_type": "code",
   "execution_count": null,
   "id": "prescribed-weekend",
   "metadata": {},
   "outputs": [],
   "source": []
  }
 ],
 "metadata": {
  "kernelspec": {
   "display_name": "Python 3",
   "language": "python",
   "name": "python3"
  },
  "language_info": {
   "codemirror_mode": {
    "name": "ipython",
    "version": 3
   },
   "file_extension": ".py",
   "mimetype": "text/x-python",
   "name": "python",
   "nbconvert_exporter": "python",
   "pygments_lexer": "ipython3",
   "version": "3.7.3"
  }
 },
 "nbformat": 4,
 "nbformat_minor": 5
}
