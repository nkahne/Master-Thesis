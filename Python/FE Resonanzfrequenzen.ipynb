{
 "cells": [
  {
   "cell_type": "code",
   "execution_count": 2,
   "metadata": {},
   "outputs": [],
   "source": [
    "import numpy as np\n",
    "import matplotlib.pyplot as plt\n",
    "import colorama\n",
    "from colorama import Fore, Back, Style"
   ]
  },
  {
   "cell_type": "code",
   "execution_count": 3,
   "metadata": {},
   "outputs": [],
   "source": [
    "pi = np.pi\n",
    "phi0 = 2.067e-15   #Fluxquantum in Vs\n",
    "e0 = 8.854e-12   #epsilon0 in As/Vm\n",
    "mu0 = 1.257e-6   #µ0 in H/m\n",
    "\n",
    "def sqrt(x):\n",
    "    return np.sqrt(x)\n",
    "def f(L,C):   #Resonanzfrequenz eines LC Schwingkreises\n",
    "    return 1/(2*pi*sqrt(L*C))\n",
    "def f_li(L,C,l_i):   #Resonanzfrequenz eines Mikrostreifenleiters (Signal über Einkoppelspule)\n",
    "    return 1/(2*l_i*sqrt(L*C))\n",
    "def f_lw(L,C,l_w):   #Resonanzfrequenz eines Mikrostreifenleiters (Signal über Washer)\n",
    "    return 1/(2*l_w*sqrt(L*C))\n",
    "def Vs(f):   #Spannung Vs, gegeben durch die Josephson Wechselströme mit Frequenz f\n",
    "    return f*phi0\n",
    "def fop(I,R):   #Optimale Betriebsfrequenz\n",
    "    return (0.3*I*R)/phi0\n",
    "def Cstr(w_i,d,diso):   #Mikrostreifenleiter-Kapazität pro Einheitslänge\n",
    "    return e0*er*w_i*K_f(d,diso)/diso\n",
    "\n",
    "def K_f(d,diso):   #Feldverstärkungsfaktor\n",
    "    return (2*diso)*np.log(2*rb/ra)/(w_i*pi)\n",
    "\n",
    "def Lstr(lamda,w_i,diso):\n",
    "    return mu0*(diso + 2*lamda)/(w_i + 2*diso + 4*lamda)\n",
    "\n",
    "def Lstr_Enp2(diso,w_i):\n",
    "    return (diso*mu0/w_i)\n",
    "\n",
    "def Cp(l_i4th,w_i,d,diso):\n",
    "    return l_i4th*Cstr(w_i,d,diso)/8\n",
    "\n",
    "def f_LsCp(L_s,l_i4th,w_i,d,diso):\n",
    "    return 1/(2*pi*np.sqrt(L_s*4*Cp(l_i4th,w_i,d,diso)))\n",
    "\n",
    "def f_LiCp(L_i,l_i4th,w_i,d,diso):\n",
    "    return 1/(2*pi*np.sqrt(L_i*(1/4)*Cp(l_i4th,w_i,d,diso)))\n",
    "\n",
    "def Z0(lamda,w_i,diso,d):\n",
    "    return sqrt(Lstr(lamda,w_i,diso)/Cstr(w_i,d,diso))"
   ]
  },
  {
   "cell_type": "code",
   "execution_count": 4,
   "metadata": {},
   "outputs": [],
   "source": [
    "#CrossJJ 2nH (Fabienne)"
   ]
  },
  {
   "cell_type": "code",
   "execution_count": 5,
   "metadata": {},
   "outputs": [
    {
     "name": "stdout",
     "output_type": "stream",
     "text": [
      "K_f (Feldverstärkungsfaktor) = 1.38\n",
      "\u001b[32mLsC Resonanzfrequenz: f = 2.117e+10\n",
      "Optimale Betriebsfrequenz (I_c=6muA): f_op = 1.123e+10\n",
      "Optimale Betriebsfrequenz (I_c=12muA): f_op = 2.247e+10\u001b[0m\n",
      "Parasitäre Kapazität: Cp = 2.562e-14 (über gesamten Washer: Cpw = 4*Cp = 1.025e-13)\n",
      "\u001b[32mLsCp Resonanzfrequenz: f_LsCp = 4.557e+10\n",
      "LiCp Resonanzfrequenz: f_LiCp = 4.910e+10\u001b[0m\n",
      "Mikrostreifenleiter Kapazität(input coil): Cstr = 4.767e-10\n",
      "Mikrostreifenleiter Induktivität(input coil): Lstr = 1.313e-07\n",
      "\u001b[32mMikrostreifenleiter Resonanzfrequenz(input coil): f_li = 3.675e+10\n",
      "Mikrostreifenleiter Resonanzfrequenz(washer): f_lw = 3.518e+10\u001b[0m\n",
      "Z0 (Streifenleiter Impedanz) = 16.6\n",
      "\u001b[95mSpannung: Vs (LsC) = 4.376e-05\n",
      "Spannung: Vs (Optimaler Betrieb, 6muA) = 2.322e-05\n",
      "Spannung: Vs (LsCp) = 9.420e-05\n",
      "Spannung: Vs (LiCp) = 1.015e-04\n",
      "Spannung: Vs (stripline (input coil)) = 7.596e-05\n",
      "Spannung: Vs (stripline (washer)) = 7.272e-05\u001b[0m\n"
     ]
    }
   ],
   "source": [
    "#WindowJJ 2nH (Fabienne)\n",
    "\n",
    "\n",
    "C = 0.95e-12   #JJ Kapazität\n",
    "L_s = 119e-12   #Washer Induktivität\n",
    "L_i = 1.64e-9   #Einkoppel Induktivität\n",
    "I_c = 6e-6   #Angestrebter kritischer Strom Ic\n",
    "I_c_real = 2*I_c   #Tatsächlicher kritischer Strom Ic (unerklärlich hoher Wert bei Fabiennes Wafer)\n",
    "j_c = 30   #Angestrebte kritische Stromdichte Jc in A/cm²\n",
    "R_s = 12.9   #Shunt Widerstand in Ohm\n",
    "er = 3.9\n",
    "l_i = 1.72e-3   #fabiennes wert\n",
    "l_i4th = l_i/4\n",
    "#K_f = 1.4   #Feldverstärkungsfaktor\n",
    "lamda = 48e-9   #Von Fabienne gemessen (Lit. Wert aber größer -> welchen nehmen wir an?)\n",
    "diso = 300e-9   #Iso Dicke\n",
    "w_i = 3e-6   #Leiterbahnbreite Einkoppelspule\n",
    "w_d = 5e-6   #Leiterbahnbreite Washer\n",
    "d = 400e-9   #Nb2 Dicke\n",
    "\n",
    "b = 1 + d/diso\n",
    "p = 2*b**2 - 1 + np.sqrt((2*b**2-1)**2-1)\n",
    "ra = np.exp(-1 - (pi*w_i)/(2*diso) - ((p+1)/p**0.5)*np.arctanh(p**-0.5) - np.log((p-1)/(4*p)))\n",
    "eta = p**0.5*((pi*w_i)/(2*diso) + (p+1)*(1+np.log(4/(p-1)))/(2*p**0.5) - 2*np.arctanh(p**-0.5))\n",
    "rb = eta + (p+1)*np.log(eta)/2\n",
    "\n",
    "\n",
    "print(f\"K_f (Feldverstärkungsfaktor) = {K_f(d,diso):.3}\")\n",
    "print(Fore.GREEN + f\"LsC Resonanzfrequenz: f = {f(L_s,C/2):.3e}\")\n",
    "print(f\"Optimale Betriebsfrequenz (I_c=6muA): f_op = {fop(I_c,R_s):.3e}\")\n",
    "print(f\"Optimale Betriebsfrequenz (I_c=12muA): f_op = {fop(I_c_real,R_s):.3e}\" + Style.RESET_ALL)\n",
    "print(f\"Parasitäre Kapazität: Cp = {Cp(l_i4th,w_i,d,diso):.3e} (über gesamten Washer: Cpw = 4*Cp = {4*Cp(l_i4th,w_i,d,diso):.3e})\")\n",
    "print(Fore.GREEN + f\"LsCp Resonanzfrequenz: f_LsCp = {f_LsCp(L_s,l_i4th,w_i,d,diso):.3e}\")\n",
    "print(f\"LiCp Resonanzfrequenz: f_LiCp = {f_LiCp(L_i,l_i4th,w_i,d,diso):.3e}\" + Style.RESET_ALL)\n",
    "print(f\"Mikrostreifenleiter Kapazität(input coil): Cstr = {Cstr(w_i,d,diso):.3e}\")   #sollte fabiennes wert ergeben, check\n",
    "#print(f\"Mikrostreifenleiter Kapazität(washer): Cstr = {Cstr(w_d,d,diso):.3e}\")\n",
    "print(f\"Mikrostreifenleiter Induktivität(input coil): Lstr = {Lstr(lamda,w_i,diso):.3e}\")\n",
    "#print(f\"Mikrostreifenleiter Induktivität(input coil, Enpuku): Lstr = {Lstr_Enp2(diso,w_i):.3e}\")\n",
    "#print(f\"Mikrostreifenleiter Induktivität(washer): Lstr = {Lstr(lamda,w_d,diso):.3e}\")\n",
    "print(Fore.GREEN + f\"Mikrostreifenleiter Resonanzfrequenz(input coil): f_li = {f_li(Lstr(lamda,w_i,diso), Cstr(w_i,d,diso), l_i):.3e}\")   #sollte fabiennes wert ergeben, check (ca)\n",
    "print(f\"Mikrostreifenleiter Resonanzfrequenz(washer): f_lw = {f_lw(Lstr(lamda,w_d,diso), Cstr(w_d,d,diso), l_i):.3e}\" + Style.RESET_ALL)   #sollte fabiennes wert ergeben, ???\n",
    "print(f\"Z0 (Streifenleiter Impedanz) = {Z0(lamda,w_i,diso,d):.3}\")\n",
    "print(Fore.LIGHTMAGENTA_EX + f\"Spannung: Vs (LsC) = {Vs(f(L_s,C/2)):.3e}\")\n",
    "print(f\"Spannung: Vs (Optimaler Betrieb, 6muA) = {Vs(fop(I_c,R_s)):.3e}\")\n",
    "print(f\"Spannung: Vs (LsCp) = {Vs(f_LsCp(L_s,l_i4th,w_i,d,diso)):.3e}\")\n",
    "print(f\"Spannung: Vs (LiCp) = {Vs(f_LiCp(L_i,l_i4th,w_i,d,diso)):.3e}\")\n",
    "print(f\"Spannung: Vs (stripline (input coil)) = {Vs(f_li(Lstr(lamda,w_i,diso), Cstr(w_i,d,diso), l_i)):.3e}\")\n",
    "print(f\"Spannung: Vs (stripline (washer)) = {Vs(f_lw(Lstr(lamda,w_d,diso), Cstr(w_d,d,diso), l_i)):.3e}\" + Style.RESET_ALL)"
   ]
  },
  {
   "cell_type": "code",
   "execution_count": 6,
   "metadata": {},
   "outputs": [
    {
     "name": "stdout",
     "output_type": "stream",
     "text": [
      "K_f (Feldverstärkungsfaktor) = 1.45\n",
      "\u001b[32mLsC Resonanzfrequenz: f = 2.117e+10\n",
      "Optimale Betriebsfrequenz (I_c=6muA): f_op = 5.225e+09\n",
      "Optimale Betriebsfrequenz (I_c=12muA): f_op = 1.045e+10\u001b[0m\n",
      "Parasitäre Kapazität: Cp = 4.304e-14 (über gesamten Washer: Cpw = 4*Cp = 1.722e-13)\n",
      "\u001b[32mLsCp Resonanzfrequenz: f_LsCp = 3.516e+10\n",
      "LiCp Resonanzfrequenz: f_LiCp = 1.893e+10\u001b[0m\n",
      "Mikrostreifenleiter Kapazität(input coil): Cstr = 4.004e-10\n",
      "Mikrostreifenleiter Induktivität(input coil): Lstr = 1.697e-07\n",
      "\u001b[32mMikrostreifenleiter Resonanzfrequenz(input coil): f_li = 1.763e+10\n",
      "Mikrostreifenleiter Resonanzfrequenz(washer): f_lw = 3.330e+10\u001b[0m\n",
      "Z0 (Streifenleiter Impedanz) = 20.6\n",
      "\u001b[95mSpannung: Vs (LsC) = 4.376e-05\n",
      "Spannung: Vs (Optimaler Betrieb, 6muA) = 1.080e-05\n",
      "Spannung: Vs (LsCp) = 7.268e-05\n",
      "Spannung: Vs (LiCp) = 3.913e-05\n",
      "Spannung: Vs (stripline (input coil)) = 3.644e-05\n",
      "Spannung: Vs (stripline (washer)) = 6.884e-05\u001b[0m\n"
     ]
    }
   ],
   "source": [
    "#WindowJJ 6nH (Nico)\n",
    "\n",
    "L_i = 6.57e-9   #Einkoppel Induktivität (gemessen)\n",
    "l_i = 2*1.72e-3   # (ca)\n",
    "l_i4th = l_i/4\n",
    "diso = 375e-9   #Iso Dicke\n",
    "d = 400e-9   #Nb2 Dicke\n",
    "R_s = 6   #Shunt Widerstand in Ohm\n",
    "lamda = 90e-9   #sinnvolle Annahme laut Andreas und Daniel\n",
    "#l_w = \n",
    "\n",
    "b = 1 + d/diso\n",
    "p = 2*b**2 - 1 + np.sqrt((2*b**2-1)**2-1)\n",
    "ra = np.exp(-1 - (pi*w_i)/(2*diso) - ((p+1)/p**0.5)*np.arctanh(p**-0.5) - np.log((p-1)/(4*p)))\n",
    "eta = p**0.5*((pi*w_i)/(2*diso) + (p+1)*(1+np.log(4/(p-1)))/(2*p**0.5) - 2*np.arctanh(p**-0.5))\n",
    "rb = eta + (p+1)*np.log(eta)/2\n",
    "\n",
    "\n",
    "print(f\"K_f (Feldverstärkungsfaktor) = {K_f(d,diso):.3}\")\n",
    "print(Fore.GREEN + f\"LsC Resonanzfrequenz: f = {f(L_s,C/2):.3e}\")\n",
    "print(f\"Optimale Betriebsfrequenz (I_c=6muA): f_op = {fop(I_c,R_s):.3e}\")\n",
    "print(f\"Optimale Betriebsfrequenz (I_c=12muA): f_op = {fop(I_c_real,R_s):.3e}\" + Style.RESET_ALL)\n",
    "print(f\"Parasitäre Kapazität: Cp = {Cp(l_i4th,w_i,d,diso):.3e} (über gesamten Washer: Cpw = 4*Cp = {4*Cp(l_i4th,w_i,d,diso):.3e})\")\n",
    "print(Fore.GREEN + f\"LsCp Resonanzfrequenz: f_LsCp = {f_LsCp(L_s,l_i4th,w_i,d,diso):.3e}\")\n",
    "print(f\"LiCp Resonanzfrequenz: f_LiCp = {f_LiCp(L_i,l_i4th,w_i,d,diso):.3e}\" + Style.RESET_ALL)\n",
    "print(f\"Mikrostreifenleiter Kapazität(input coil): Cstr = {Cstr(w_i,d,diso):.3e}\")   #sollte fabiennes wert ergeben, check\n",
    "#print(f\"Mikrostreifenleiter Kapazität(washer): Cstr = {Cstr(w_d,d,diso):.3e}\")\n",
    "print(f\"Mikrostreifenleiter Induktivität(input coil): Lstr = {Lstr(lamda,w_i,diso):.3e}\")\n",
    "#print(f\"Mikrostreifenleiter Induktivität(input coil, Enpuku): Lstr = {Lstr_Enp2(diso,w_i):.3e}\")\n",
    "#print(f\"Mikrostreifenleiter Induktivität(washer): Lstr = {Lstr(lamda,w_d,diso):.3e}\")\n",
    "print(Fore.GREEN + f\"Mikrostreifenleiter Resonanzfrequenz(input coil): f_li = {f_li(Lstr(lamda,w_i,diso), Cstr(w_i,d,diso), l_i):.3e}\")   #sollte fabiennes wert ergeben, check (ca)\n",
    "print(f\"Mikrostreifenleiter Resonanzfrequenz(washer): f_lw = {f_lw(Lstr(lamda,w_d,diso), Cstr(w_d,d,diso), l_i/2):.3e}\" + Style.RESET_ALL)   #sollte fabiennes wert ergeben, ???\n",
    "print(f\"Z0 (Streifenleiter Impedanz) = {Z0(lamda,w_i,diso,d):.3}\")\n",
    "print(Fore.LIGHTMAGENTA_EX + f\"Spannung: Vs (LsC) = {Vs(f(L_s,C/2)):.3e}\")\n",
    "print(f\"Spannung: Vs (Optimaler Betrieb, 6muA) = {Vs(fop(I_c,R_s)):.3e}\")\n",
    "print(f\"Spannung: Vs (LsCp) = {Vs(f_LsCp(L_s,l_i4th,w_i,d,diso)):.3e}\")\n",
    "print(f\"Spannung: Vs (LiCp) = {Vs(f_LiCp(L_i,l_i4th,w_i,d,diso)):.3e}\")\n",
    "print(f\"Spannung: Vs (stripline (input coil)) = {Vs(f_li(Lstr(lamda,w_i,diso), Cstr(w_i,d,diso), l_i)):.3e}\")\n",
    "print(f\"Spannung: Vs (stripline (washer)) = {Vs(f_lw(Lstr(lamda,w_d,diso), Cstr(w_d,d,diso), l_i/2)):.3e}\" + Style.RESET_ALL)"
   ]
  },
  {
   "cell_type": "code",
   "execution_count": 7,
   "metadata": {
    "tags": []
   },
   "outputs": [
    {
     "name": "stdout",
     "output_type": "stream",
     "text": [
      "Mikrostreifenleiter Resonanzfrequenz(input coil): f_li = 2.841e+10\n",
      "Spannung: Vs (stripline (input coil)) = 5.872e-05\n"
     ]
    }
   ],
   "source": [
    "#Streifenleiter Resonanz zwischen FE und L_in(Array)\n",
    "\n",
    "l_i = (0.457+0.006+0.37+0.008+1.06+0.063+0.171)*1e-3\n",
    "print(f\"Mikrostreifenleiter Resonanzfrequenz(input coil): f_li = {f_li(Lstr(lamda,w_i,diso), Cstr(w_i,d,diso), l_i):.3e}\")\n",
    "print(f\"Spannung: Vs (stripline (input coil)) = {Vs(f_li(Lstr(lamda,w_i,diso), Cstr(w_i,d,diso), l_i)):.3e}\")"
   ]
  },
  {
   "cell_type": "code",
   "execution_count": 8,
   "metadata": {},
   "outputs": [
    {
     "data": {
      "text/plain": [
       "28.70853531617383"
      ]
     },
     "execution_count": 8,
     "metadata": {},
     "output_type": "execute_result"
    }
   ],
   "source": [
    "f_LsCp = (1/np.sqrt(2))*40.6\n",
    "f_LsCp"
   ]
  },
  {
   "cell_type": "code",
   "execution_count": 9,
   "metadata": {},
   "outputs": [
    {
     "data": {
      "text/plain": [
       "4.5528455284552845"
      ]
     },
     "execution_count": 9,
     "metadata": {},
     "output_type": "execute_result"
    }
   ],
   "source": [
    "2*2.8/1.23"
   ]
  },
  {
   "cell_type": "code",
   "execution_count": 10,
   "metadata": {},
   "outputs": [
    {
     "data": {
      "text/plain": [
       "1.9131611488299385"
      ]
     },
     "execution_count": 10,
     "metadata": {},
     "output_type": "execute_result"
    }
   ],
   "source": [
    "4100/((2*37.625+80+20+28*(360)+360+20+80)/5)"
   ]
  },
  {
   "cell_type": "code",
   "execution_count": 11,
   "metadata": {},
   "outputs": [
    {
     "data": {
      "text/plain": [
       "1.5398614124728773"
      ]
     },
     "execution_count": 11,
     "metadata": {},
     "output_type": "execute_result"
    }
   ],
   "source": [
    "3300/((2*37.625+80+20+28*(360)+360+20+80)/5)"
   ]
  },
  {
   "cell_type": "code",
   "execution_count": 12,
   "metadata": {},
   "outputs": [
    {
     "data": {
      "text/plain": [
       "13.649999999999999"
      ]
     },
     "execution_count": 12,
     "metadata": {},
     "output_type": "execute_result"
    }
   ],
   "source": [
    "4.55*3"
   ]
  },
  {
   "cell_type": "code",
   "execution_count": 13,
   "metadata": {},
   "outputs": [
    {
     "data": {
      "text/plain": [
       "20.428250000000002"
      ]
     },
     "execution_count": 13,
     "metadata": {},
     "output_type": "execute_result"
    }
   ],
   "source": [
    "(99.65/3)*1.23/2"
   ]
  },
  {
   "cell_type": "code",
   "execution_count": 14,
   "metadata": {},
   "outputs": [
    {
     "data": {
      "text/plain": [
       "3.7716535433070866"
      ]
     },
     "execution_count": 14,
     "metadata": {},
     "output_type": "execute_result"
    }
   ],
   "source": [
    "4.79/1.27"
   ]
  },
  {
   "cell_type": "code",
   "execution_count": 16,
   "metadata": {},
   "outputs": [
    {
     "data": {
      "text/plain": [
       "4.559558823529412e-05"
      ]
     },
     "execution_count": 16,
     "metadata": {},
     "output_type": "execute_result"
    }
   ],
   "source": [
    "Vs(3e8/(4*3.4e-3))\n"
   ]
  },
  {
   "cell_type": "code",
   "execution_count": null,
   "metadata": {},
   "outputs": [],
   "source": []
  }
 ],
 "metadata": {
  "kernelspec": {
   "display_name": "Python 3 (ipykernel)",
   "language": "python",
   "name": "python3"
  },
  "language_info": {
   "codemirror_mode": {
    "name": "ipython",
    "version": 3
   },
   "file_extension": ".py",
   "mimetype": "text/x-python",
   "name": "python",
   "nbconvert_exporter": "python",
   "pygments_lexer": "ipython3",
   "version": "3.11.5"
  }
 },
 "nbformat": 4,
 "nbformat_minor": 4
}
