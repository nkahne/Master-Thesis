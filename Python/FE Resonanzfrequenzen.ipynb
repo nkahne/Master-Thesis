{
 "cells": [
  {
   "cell_type": "code",
   "execution_count": 1,
   "metadata": {},
   "outputs": [],
   "source": [
    "import numpy as np\n",
    "import matplotlib.pyplot as plt\n",
    "import colorama\n",
    "from colorama import Fore, Back, Style"
   ]
  },
  {
   "cell_type": "code",
   "execution_count": 2,
   "metadata": {},
   "outputs": [],
   "source": [
    "pi = np.pi\n",
    "phi0 = 2.067e-15   #Fluxquantum in Vs\n",
    "e0 = 8.854e-12   #epsilon0 in As/Vm\n",
    "mu0 = 1.257e-6   #µ0 in H/m\n",
    "\n",
    "def sqrt(x):\n",
    "    return np.sqrt(x)\n",
    "def f(L,C):   #Resonanzfrequenz eines LC Schwingkreises\n",
    "    return 1/(2*pi*sqrt(L*C))\n",
    "def f_li(L,C,l_i):   #Resonanzfrequenz eines Mikrostreifenleiters (Signal über Einkoppelspule)\n",
    "    return 1/(2*l_i*sqrt(L*C))\n",
    "def f_lf(L,C,l_f):   #Resonanzfrequenz eines Mikrostreifenleiters (Signal über Einkoppelspule)\n",
    "    return 1/(2*l_f*sqrt(L*C))\n",
    "def f_lw(L,C,l_w):   #Resonanzfrequenz eines Mikrostreifenleiters (Signal über Washer)\n",
    "    return 1/(2*l_w*sqrt(L*C))\n",
    "def Vs(f):   #Spannung Vs, gegeben durch die Josephson Wechselströme mit Frequenz f\n",
    "    return f*phi0\n",
    "def fop(I,R):   #Optimale Betriebsfrequenz\n",
    "    return (0.3*I*R)/phi0\n",
    "def Cstr(w_i,d,diso):   #Mikrostreifenleiter-Kapazität pro Einheitslänge\n",
    "    return e0*er*w_i*K_f(d,diso)/diso\n",
    "\n",
    "def K_f(d,diso):   #Feldverstärkungsfaktor\n",
    "    return (2*diso)*np.log(2*rb/ra)/(w_i*pi)\n",
    "\n",
    "def Lstr(lamda,w_i,diso):\n",
    "    return mu0*(diso + 2*lamda)/(w_i + 2*diso + 4*lamda)\n",
    "\n",
    "def Lstr_Enp2(diso,w_i):\n",
    "    return (diso*mu0/w_i)\n",
    "\n",
    "def Cp(l_i4th,w_i,d,diso):\n",
    "    return l_i4th*Cstr(w_i,d,diso)/8\n",
    "\n",
    "def f_LsCp(L_s,l_i4th,w_i,d,diso):\n",
    "    return 1/(2*pi*np.sqrt(L_s*4*Cp(l_i4th,w_i,d,diso)))\n",
    "\n",
    "def f_LiCp(L_i,l_i4th,w_i,d,diso):\n",
    "    return 1/(2*pi*np.sqrt(L_i*(1/4)*Cp(l_i4th,w_i,d,diso)))\n",
    "\n",
    "def f_LfCp(L_f,l_f4th,w_i,d,diso):\n",
    "    return 1/(2*pi*np.sqrt(L_f*(1/4)*Cp(l_i4th,w_i,d,diso)))\n",
    "\n",
    "def f_LiCpx(tau,L,C,alpha):   #Knu87\n",
    "    return sqrt((1-(1-tau**2/(L*C))*alpha)*1/(L*C))/(2*pi)\n",
    "\n",
    "def Z0(lamda,w_i,diso,d):\n",
    "    return sqrt(Lstr(lamda,w_i,diso)/Cstr(w_i,d,diso))"
   ]
  },
  {
   "cell_type": "code",
   "execution_count": 3,
   "metadata": {},
   "outputs": [],
   "source": [
    "#CrossJJ 2nH (Fabienne)"
   ]
  },
  {
   "cell_type": "code",
   "execution_count": 4,
   "metadata": {},
   "outputs": [
    {
     "name": "stdout",
     "output_type": "stream",
     "text": [
      "K_f (Feldverstärkungsfaktor) = 1.45\n",
      "\u001b[32mLsC Resonanzfrequenz: f = 2.006e+10\n",
      "Optimale Betriebsfrequenz (I_c=6muA): f_op = 4.921e+09\n",
      "Optimale Betriebsfrequenz (I_c=12muA): f_op = 9.842e+09\u001b[0m\n",
      "Parasitäre Kapazität: Cp = 2.990e-14 (über gesamten Washer: Cpw = 4*Cp = 1.196e-13)\n",
      "\u001b[32mLsCp Resonanzfrequenz: f_LsCp = 3.998e+10\n",
      "LiCp Resonanzfrequenz: f_LiCp = 5.165e+10\u001b[0m\n",
      "Mikrostreifenleiter Kapazität(input coil): Cstr = 4.004e-10\n",
      "Mikrostreifenleiter Induktivität(input coil): Lstr = 1.697e-07\n",
      "\u001b[32mMikrostreifenleiter Resonanzfrequenz(input coil): f_li = 2.538e+10\n",
      "Mikrostreifenleiter Resonanzfrequenz(washer): f_lw = 2.397e+10\u001b[0m\n",
      "Z0 (Streifenleiter Impedanz) = 20.6\n",
      "\u001b[95mSpannung: Vs (LsC) = 4.147e-05\n",
      "Spannung: Vs (Optimaler Betrieb, 6muA) = 1.017e-05\n",
      "Spannung: Vs (LsCp) = 8.263e-05\n",
      "Spannung: Vs (fakeLiCp) = 1.068e-04\n",
      "Spannung: Vs (stripline (input coil)) = 5.245e-05\n",
      "Spannung: Vs (stripline (washer)) = 5.825e-05\u001b[0m\n"
     ]
    }
   ],
   "source": [
    "#WindowJJ 2nH (Fabienne)\n",
    "\n",
    "\n",
    "C = 0.95e-12   #JJ Kapazität\n",
    "L_s = 132.5e-12   #Washer Induktivität\n",
    "L_i = 1.27e-9   #Einkoppel Induktivität\n",
    "I_c = 6.52e-6   #Angestrebter kritischer Strom Ic\n",
    "I_c_real = 2*I_c   #Tatsächlicher kritischer Strom Ic (unerklärlich hoher Wert bei Fabiennes Wafer)\n",
    "j_c = 30   #Angestrebte kritische Stromdichte Jc in A/cm²\n",
    "R_s = 5.2   #Shunt Widerstand in Ohm\n",
    "er = 3.9\n",
    "l_i = 1.72e-3 +0.67e-3  #fabiennes wert -> es fehlt noch die zuleitung! (für die stripline resonanz)\n",
    "l_i4th = l_i/4\n",
    "#K_f = 1.4   #Feldverstärkungsfaktor\n",
    "lamda = 90e-9   #Annahme\n",
    "diso = 375e-9   #Iso Dicke\n",
    "w_i = 3e-6   #Leiterbahnbreite Einkoppelspule\n",
    "w_d = 5e-6   #Leiterbahnbreite Washer\n",
    "d = 400e-9   #Nb2 Dicke\n",
    "l_w = l_i/8+(471+8+172+13+1070)*1e-6   #vermutlich etwas weniger, entspricht L=6 design \n",
    "\n",
    "b = 1 + d/diso\n",
    "p = 2*b**2 - 1 + np.sqrt((2*b**2-1)**2-1)\n",
    "ra = np.exp(-1 - (pi*w_i)/(2*diso) - ((p+1)/p**0.5)*np.arctanh(p**-0.5) - np.log((p-1)/(4*p)))\n",
    "eta = p**0.5*((pi*w_i)/(2*diso) + (p+1)*(1+np.log(4/(p-1)))/(2*p**0.5) - 2*np.arctanh(p**-0.5))\n",
    "rb = eta + (p+1)*np.log(eta)/2\n",
    "\n",
    "\n",
    "print(f\"K_f (Feldverstärkungsfaktor) = {K_f(d,diso):.3}\")\n",
    "print(Fore.GREEN + f\"LsC Resonanzfrequenz: f = {f(L_s,C/2):.3e}\")\n",
    "print(f\"Optimale Betriebsfrequenz (I_c=6muA): f_op = {fop(I_c,R_s):.3e}\")\n",
    "print(f\"Optimale Betriebsfrequenz (I_c=12muA): f_op = {fop(I_c_real,R_s):.3e}\" + Style.RESET_ALL)\n",
    "print(f\"Parasitäre Kapazität: Cp = {Cp(l_i4th,w_i,d,diso):.3e} (über gesamten Washer: Cpw = 4*Cp = {4*Cp(l_i4th,w_i,d,diso):.3e})\")\n",
    "print(Fore.GREEN + f\"LsCp Resonanzfrequenz: f_LsCp = {f_LsCp(L_s,l_i4th,w_i,d,diso):.3e}\")   #ist nen tick größer als ihre 40.6 GHz ?\n",
    "print(f\"LiCp Resonanzfrequenz: f_LiCp = {f_LiCp(L_i,l_i4th,w_i,d,diso):.3e}\" + Style.RESET_ALL)\n",
    "print(f\"Mikrostreifenleiter Kapazität(input coil): Cstr = {Cstr(w_i,d,diso):.3e}\")   #sollte fabiennes wert ergeben, check\n",
    "#print(f\"Mikrostreifenleiter Kapazität(washer): Cstr = {Cstr(w_d,d,diso):.3e}\")\n",
    "print(f\"Mikrostreifenleiter Induktivität(input coil): Lstr = {Lstr(lamda,w_i,diso):.3e}\")\n",
    "#print(f\"Mikrostreifenleiter Induktivität(input coil, Enpuku): Lstr = {Lstr_Enp2(diso,w_i):.3e}\")\n",
    "#print(f\"Mikrostreifenleiter Induktivität(washer): Lstr = {Lstr(lamda,w_d,diso):.3e}\")\n",
    "print(Fore.GREEN + f\"Mikrostreifenleiter Resonanzfrequenz(input coil): f_li = {f_li(Lstr(lamda,w_i,diso), Cstr(w_i,d,diso), l_i):.3e}\")   #sollte fabiennes wert ergeben, check (ca) für lambda=48 und diso=300\n",
    "print(f\"Mikrostreifenleiter Resonanzfrequenz(washer): f_lw = {f_lw(Lstr(lamda,w_d,diso), Cstr(w_d,d,diso), l_i):.3e}\" + Style.RESET_ALL)   #sollte fabiennes wert ergeben, ???\n",
    "print(f\"Z0 (Streifenleiter Impedanz) = {Z0(lamda,w_i,diso,d):.3}\")\n",
    "print(Fore.LIGHTMAGENTA_EX + f\"Spannung: Vs (LsC) = {Vs(f(L_s,C/2)):.3e}\")\n",
    "print(f\"Spannung: Vs (Optimaler Betrieb, 6muA) = {Vs(fop(I_c,R_s)):.3e}\")\n",
    "print(f\"Spannung: Vs (LsCp) = {Vs(f_LsCp(L_s,l_i4th,w_i,d,diso)):.3e}\")\n",
    "print(f\"Spannung: Vs (fakeLiCp) = {Vs(f_LiCp(L_i,l_i4th,w_i,d,diso)):.3e}\")\n",
    "print(f\"Spannung: Vs (stripline (input coil)) = {Vs(f_li(Lstr(lamda,w_i,diso), Cstr(w_i,d,diso), l_i)):.3e}\")\n",
    "print(f\"Spannung: Vs (stripline (washer)) = {Vs(f_lw(Lstr(lamda,w_d,diso), Cstr(w_d,d,diso), l_w)):.3e}\" + Style.RESET_ALL)"
   ]
  },
  {
   "cell_type": "code",
   "execution_count": 5,
   "metadata": {},
   "outputs": [
    {
     "name": "stdout",
     "output_type": "stream",
     "text": [
      "K_f (Feldverstärkungsfaktor) = 1.45\n",
      "\u001b[32mLsC Resonanzfrequenz: f = 2.222e+10\n",
      "Optimale Betriebsfrequenz (I_c=6muA): f_op = 5.086e+09\n",
      "Optimale Betriebsfrequenz (I_c=12muA): f_op = 1.136e+10\u001b[0m\n",
      "Parasitäre Kapazität: Cp = 5.080e-14 (über gesamten Washer: Cpw = 4*Cp = 2.032e-13)\n",
      "\u001b[32mLsCp Resonanzfrequenz: f_LsCp = 3.397e+10\n",
      "LiCp Resonanzfrequenz: f_LiCp = 1.765e+10\u001b[0m\n",
      "LfCp Resonanzfrequenz: f_LfCp = 7.705e+10\u001b[0m\n",
      "Mikrostreifenleiter Kapazität(input coil): Cstr = 4.004e-10\n",
      "Mikrostreifenleiter Induktivität(input coil): Lstr = 1.697e-07\n",
      "\u001b[32mMikrostreifenleiter Resonanzfrequenz(input coil): f_li = 1.494e+10\n",
      "Mikrostreifenleiter Resonanzfrequenz(washer): f_lw = 2.691e+10\u001b[0m\n",
      "Z0 (Streifenleiter Impedanz) = 20.6\n",
      "\u001b[95mSpannung: Vs (LsC) = 4.593e-05\n",
      "Spannung: Vs (Optimaler Betrieb, 6muA) = 1.051e-05\n",
      "Spannung: Vs (LsCp) = 7.022e-05\n",
      "Spannung: Vs (fakeLiCp) = 3.649e-05\n",
      "Spannung: Vs (LfCp) = 1.593e-04\n",
      "Spannung: Vs (stripline (input coil)) = 3.088e-05\n",
      "Spannung: Vs (stripline (feedback coil)) = 1.140e-04\n",
      "Spannung: Vs (stripline (washer)) = 5.037e-05\u001b[0m\n"
     ]
    }
   ],
   "source": [
    "#WindowJJ 6nH (Nico)\n",
    "\n",
    "L_i = 6.4e-9   #Einkoppel Induktivität \n",
    "L_f = 336e-12   #design, nicht neu simuliert/gemessen\n",
    "C = 0.95e-12   #JJ Kapazität\n",
    "L_s =108e-12   #InductEx mit lambda=90\n",
    "l_i = 2*1.72e-3 + 0.62e-3 # (ca) -> es fehlt noch die zuleitung! (für die stripine resonanz)\n",
    "l_i4th = l_i/4\n",
    "I_c = 5.84e-6\n",
    "diso = 375e-9   #Iso Dicke\n",
    "d = 400e-9   #Nb2 Dicke\n",
    "w_i = 3e-6   #Leiterbahnbreite Einkoppelspule\n",
    "w_d = 10e-6   #Leiterbahnbreite Washer\n",
    "R_s = 6   #Shunt Widerstand in Ohm\n",
    "lamda = 90e-9   #sinnvolle Annahme laut Andreas und Daniel\n",
    "l_w = l_i/8+(471+8+172+13+1070)*1e-6\n",
    "#l_f = (2.3+19.5+3.4+1.7+4.7+7.1+5.9+22.8+4.3+2+24.6+9.7+13+4.5+2.4)*1e-6 + (307.4+5.5+471.2+8.5+166.5+12.7+1074.4)*1e-6   #Länge Rückkoppelspule mit Zuleitung\n",
    "l_f = (2.3+19.5+3.4+1.7+4.7+7.1+5.9+22.8+4.3+2+24.6+9.7+13+4.5+2.4)*1e-6 + (307.4+5.5+471.2+8.5+166.5+12.7)*1e-6   #Länge Rückkoppelspule mit Zuleitung, damped\n",
    "l_f4th = l_f/4\n",
    "\n",
    "b = 1 + d/diso\n",
    "p = 2*b**2 - 1 + np.sqrt((2*b**2-1)**2-1)\n",
    "ra = np.exp(-1 - (pi*w_i)/(2*diso) - ((p+1)/p**0.5)*np.arctanh(p**-0.5) - np.log((p-1)/(4*p)))\n",
    "eta = p**0.5*((pi*w_i)/(2*diso) + (p+1)*(1+np.log(4/(p-1)))/(2*p**0.5) - 2*np.arctanh(p**-0.5))\n",
    "rb = eta + (p+1)*np.log(eta)/2\n",
    "\n",
    "\n",
    "print(f\"K_f (Feldverstärkungsfaktor) = {K_f(d,diso):.3}\")\n",
    "print(Fore.GREEN + f\"LsC Resonanzfrequenz: f = {f(L_s,C/2):.3e}\")\n",
    "print(f\"Optimale Betriebsfrequenz (I_c=6muA): f_op = {fop(I_c,R_s):.3e}\")\n",
    "print(f\"Optimale Betriebsfrequenz (I_c=12muA): f_op = {fop(I_c_real,R_s):.3e}\" + Style.RESET_ALL)\n",
    "print(f\"Parasitäre Kapazität: Cp = {Cp(l_i4th,w_i,d,diso):.3e} (über gesamten Washer: Cpw = 4*Cp = {4*Cp(l_i4th,w_i,d,diso):.3e})\")\n",
    "print(Fore.GREEN + f\"LsCp Resonanzfrequenz: f_LsCp = {f_LsCp(L_s,l_i4th,w_i,d,diso):.3e}\")\n",
    "print(f\"LiCp Resonanzfrequenz: f_LiCp = {f_LiCp(L_i,l_i4th,w_i,d,diso):.3e}\" + Style.RESET_ALL)\n",
    "print(f\"LfCp Resonanzfrequenz: f_LfCp = {f_LfCp(L_f,l_f4th,w_i,d,diso):.3e}\" + Style.RESET_ALL)\n",
    "print(f\"Mikrostreifenleiter Kapazität(input coil): Cstr = {Cstr(w_i,d,diso):.3e}\")   #sollte fabiennes wert ergeben, check\n",
    "#print(f\"Mikrostreifenleiter Kapazität(washer): Cstr = {Cstr(w_d,d,diso):.3e}\")\n",
    "print(f\"Mikrostreifenleiter Induktivität(input coil): Lstr = {Lstr(lamda,w_i,diso):.3e}\")\n",
    "#print(f\"Mikrostreifenleiter Induktivität(input coil, Enpuku): Lstr = {Lstr_Enp2(diso,w_i):.3e}\")\n",
    "#print(f\"Mikrostreifenleiter Induktivität(washer): Lstr = {Lstr(lamda,w_d,diso):.3e}\")\n",
    "print(Fore.GREEN + f\"Mikrostreifenleiter Resonanzfrequenz(input coil): f_li = {f_li(Lstr(lamda,w_i,diso), Cstr(w_i,d,diso), l_i):.3e}\")   #sollte fabiennes wert ergeben, check (ca)\n",
    "print(f\"Mikrostreifenleiter Resonanzfrequenz(washer): f_lw = {f_lw(Lstr(lamda,w_d,diso), Cstr(w_d,d,diso), l_i/2):.3e}\" + Style.RESET_ALL)   #sollte fabiennes wert ergeben, ???\n",
    "print(f\"Z0 (Streifenleiter Impedanz) = {Z0(lamda,w_i,diso,d):.3}\")\n",
    "print(Fore.LIGHTMAGENTA_EX + f\"Spannung: Vs (LsC) = {Vs(f(L_s,C/2)):.3e}\")\n",
    "print(f\"Spannung: Vs (Optimaler Betrieb, 6muA) = {Vs(fop(I_c,R_s)):.3e}\")\n",
    "print(f\"Spannung: Vs (LsCp) = {Vs(f_LsCp(L_s,l_i4th,w_i,d,diso)):.3e}\")\n",
    "print(f\"Spannung: Vs (fakeLiCp) = {Vs(f_LiCp(L_i,l_i4th,w_i,d,diso)):.3e}\")\n",
    "print(f\"Spannung: Vs (LfCp) = {Vs(f_LfCp(L_f,l_f4th,w_i,d,diso)):.3e}\")\n",
    "print(f\"Spannung: Vs (stripline (input coil)) = {Vs(f_li(Lstr(lamda,w_i,diso), Cstr(w_i,d,diso), l_i)):.3e}\")\n",
    "print(f\"Spannung: Vs (stripline (feedback coil)) = {Vs(f_lf(Lstr(lamda,w_i,diso), Cstr(w_i,d,diso), l_f)):.3e}\")\n",
    "print(f\"Spannung: Vs (stripline (washer)) = {Vs(f_lw(Lstr(lamda,w_d,diso), Cstr(w_d,d,diso), l_w)):.3e}\" + Style.RESET_ALL)"
   ]
  },
  {
   "cell_type": "code",
   "execution_count": 6,
   "metadata": {},
   "outputs": [
    {
     "data": {
      "text/plain": [
       "0.001015"
      ]
     },
     "execution_count": 6,
     "metadata": {},
     "output_type": "execute_result"
    }
   ],
   "source": [
    "l_i4th"
   ]
  },
  {
   "cell_type": "code",
   "execution_count": 7,
   "metadata": {
    "tags": []
   },
   "outputs": [],
   "source": [
    "#Streifenleiter Resonanz zwischen FE und L_in(Array)\n",
    "\n",
    "#l_i = (0.457+0.006+0.37+0.008+1.06+0.063+0.171)*1e-3\n",
    "#print(f\"Mikrostreifenleiter Resonanzfrequenz(input coil): f_li = {f_li(Lstr(lamda,w_i,diso), Cstr(w_i,d,diso), l_i):.3e}\")\n",
    "#print(f\"Spannung: Vs (stripline (input coil)) = {Vs(f_li(Lstr(lamda,w_i,diso), Cstr(w_i,d,diso), l_i)):.3e}\")"
   ]
  },
  {
   "cell_type": "code",
   "execution_count": 8,
   "metadata": {},
   "outputs": [],
   "source": [
    "#f_LsCp = (1/np.sqrt(2))*40.6\n",
    "#f_LsCp"
   ]
  },
  {
   "cell_type": "code",
   "execution_count": 9,
   "metadata": {},
   "outputs": [
    {
     "data": {
      "text/plain": [
       "1.9131611488299385"
      ]
     },
     "execution_count": 9,
     "metadata": {},
     "output_type": "execute_result"
    }
   ],
   "source": [
    "4100/((2*37.625+80+20+28*(360)+360+20+80)/5)"
   ]
  },
  {
   "cell_type": "code",
   "execution_count": 10,
   "metadata": {},
   "outputs": [
    {
     "data": {
      "text/plain": [
       "1.5398614124728773"
      ]
     },
     "execution_count": 10,
     "metadata": {},
     "output_type": "execute_result"
    }
   ],
   "source": [
    "3300/((2*37.625+80+20+28*(360)+360+20+80)/5)"
   ]
  },
  {
   "cell_type": "code",
   "execution_count": 11,
   "metadata": {},
   "outputs": [
    {
     "name": "stdout",
     "output_type": "stream",
     "text": [
      "Q von LiCp Resonanz mit Knu87: 0.884\n",
      "f_LiCp Resonanz mit Knu87: 8.843e+08\n",
      "Vs: 1.828e-06\n"
     ]
    }
   ],
   "source": [
    "#f_LiCp mit Knu87\n",
    "Li = 6.32e-9   #unser eff. Li, siehe Lip nächste Zelle\n",
    "Lp = 6.65e-9\n",
    "Rx = 20.4\n",
    "Cx = 10e-12\n",
    "tau = Rx*Cx \n",
    "Lpr = Lp*Li/(Lp+Li)\n",
    "Cp = (4.304e-14)/4\n",
    "alpha = Cp/Cx\n",
    "def Q(alpha,wr,tau):\n",
    "    return (1+alpha+wr**2*tau**2*alpha)/(wr*tau)\n",
    "\n",
    "wr=2*pi*f_LiCpx(tau,Lpr,Cx,alpha)\n",
    "print(f'Q von LiCp Resonanz mit Knu87: {Q(alpha,wr,tau):.3}')\n",
    "print(f'f_LiCp Resonanz mit Knu87: {f_LiCpx(tau,Lpr,Cx,alpha):.3e}')\n",
    "print(f'Vs: {Vs(f_LiCpx(tau,Lpr,Cx,alpha)):.3e}')"
   ]
  },
  {
   "cell_type": "code",
   "execution_count": 12,
   "metadata": {},
   "outputs": [
    {
     "name": "stdout",
     "output_type": "stream",
     "text": [
      "Q von LiCp Resonanz grob abgeschätzt: 1.13\n",
      "f_LiCp Resonanz grob abgeschätzt: 8.920e+08\n",
      "Vs: 1.844e-06\n"
     ]
    }
   ],
   "source": [
    "#f_LiCp approx.\n",
    "\n",
    "def Q(Rx,Cx,Cp,Lip,Lp):\n",
    "    return Rx*np.sqrt((Cx+Cp/4)*(Lip+Lp)/(Lip*Lp))\n",
    "def Lip(Li,kis,s):\n",
    "    return Li*(1-kis**2*s)\n",
    "def s(betaL,sin,kis):\n",
    "    return (betaL*sin*kis**2)/(6+2*betaL+betaL*sin*kis**2)\n",
    "\n",
    "Rx=20.4\n",
    "Cx=10e-12\n",
    "kis=0.75   \n",
    "betaL=0.6   \n",
    "Li=6.4e-9\n",
    "Lp=6.65e-9\n",
    "Lpar=0.5e-9\n",
    "sin=Li/(Li+Lp+Lpar)\n",
    "Cp=4.304e-14\n",
    "Ltot=Lip(Li,kis,s(betaL,sin,kis))*Li/(Lip(Li,kis,s(betaL,sin,kis))+Li)   #parallelinduktivität Li' und Lp\n",
    "Ctot=Cp/4+Cx\n",
    "ftheo=1/(2*pi*sqrt(Ltot*Ctot)) \n",
    "print(f'Q von LiCp Resonanz grob abgeschätzt: {Q(Rx,Cx,Cp,Lip(Li,kis,s(betaL,sin,kis)),Lp):.3}')\n",
    "print(f'f_LiCp Resonanz grob abgeschätzt: {ftheo:.3e}')\n",
    "print(f'Vs: {ftheo*2.0678e-15:.3e}')"
   ]
  },
  {
   "cell_type": "code",
   "execution_count": 13,
   "metadata": {},
   "outputs": [
    {
     "name": "stdout",
     "output_type": "stream",
     "text": [
      "1.560e+09\n",
      "3.225e-06\n"
     ]
    }
   ],
   "source": [
    "wtheo=2/(20.4*10e-12)\n",
    "ftheo=wtheo/(2*pi)\n",
    "print(f'{ftheo:.3e}')\n",
    "print(f'{Vs(ftheo):.3e}')"
   ]
  },
  {
   "cell_type": "code",
   "execution_count": 14,
   "metadata": {},
   "outputs": [
    {
     "data": {
      "text/plain": [
       "666666666.6666666"
      ]
     },
     "execution_count": 14,
     "metadata": {},
     "output_type": "execute_result"
    }
   ],
   "source": [
    "4/6e-9"
   ]
  },
  {
   "cell_type": "code",
   "execution_count": null,
   "metadata": {},
   "outputs": [],
   "source": []
  }
 ],
 "metadata": {
  "kernelspec": {
   "display_name": "Python 3",
   "language": "python",
   "name": "python3"
  },
  "language_info": {
   "codemirror_mode": {
    "name": "ipython",
    "version": 3
   },
   "file_extension": ".py",
   "mimetype": "text/x-python",
   "name": "python",
   "nbconvert_exporter": "python",
   "pygments_lexer": "ipython3",
   "version": "3.7.3"
  }
 },
 "nbformat": 4,
 "nbformat_minor": 4
}
