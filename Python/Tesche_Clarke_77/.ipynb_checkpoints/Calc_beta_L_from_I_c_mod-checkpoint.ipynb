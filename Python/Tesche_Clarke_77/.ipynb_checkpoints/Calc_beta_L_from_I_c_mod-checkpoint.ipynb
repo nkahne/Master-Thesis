{
 "cells": [
  {
   "cell_type": "code",
   "execution_count": 2,
   "id": "first-marsh",
   "metadata": {},
   "outputs": [],
   "source": [
    "import numpy as np\n",
    "import matplotlib.pyplot as plt"
   ]
  },
  {
   "cell_type": "code",
   "execution_count": 3,
   "id": "appreciated-adrian",
   "metadata": {},
   "outputs": [],
   "source": [
    "data = np.loadtxt('Tesche_Clarke_Plot1.csv', comments = '/*', delimiter = ',')"
   ]
  },
  {
   "cell_type": "code",
   "execution_count": 4,
   "id": "defined-stomach",
   "metadata": {},
   "outputs": [
    {
     "data": {
      "image/png": "[encoded data removed]",
      "text/plain": [
       "<Figure size 432x288 with 1 Axes>"
      ]
     },
     "metadata": {
      "needs_background": "light"
     },
     "output_type": "display_data"
    }
   ],
   "source": [
    "beta = data.T[0]\n",
    "mod = data.T[1]\n",
    "plt.plot(beta,mod)\n",
    "\n",
    "\n",
    "plt.xscale('log')\n",
    "plt.ylabel('Modulation $\\,\\, [\\Delta\\,I_{c}$ / $2I_{0}$]')\n",
    "plt.xlabel(r'$\\beta = L (2I_{0} / Phi_{0})$')\n",
    "#plt.hlines(0.38,0.1,10)\n",
    "#plt.vlines(1.41,0.2,0.6)\n",
    "plt.show()"
   ]
  },
  {
   "cell_type": "code",
   "execution_count": 5,
   "id": "dying-economics",
   "metadata": {},
   "outputs": [],
   "source": [
    "#mod_low = 5.3\n",
    "#mod_high = 5.56\n",
    "\n",
    "#beta_index = np.where((mod>mod_low) & (mod<mod_high))[0]\n",
    "\n",
    "#beta[beta_index]"
   ]
  },
  {
   "cell_type": "code",
   "execution_count": 15,
   "id": "australian-denver",
   "metadata": {},
   "outputs": [
    {
     "name": "stdout",
     "output_type": "stream",
     "text": [
      "measured deltaI/2Ic = 0.529\n",
      "betaL = 0.8243\n"
     ]
    }
   ],
   "source": [
    "#Ic=5.84\n",
    "Ic=6.52\n",
    "#deltaI=7.185   #median\n",
    "#deltaI=7.73   #max meas\n",
    "#deltaI=6.09   #min meas\n",
    "deltaI=(7.05+6.74)/2   #fabiennes design (mittelwert 2 channel)\n",
    "#deltaI=7.05   #fabiennes design (max)\n",
    "#deltaI=6.74   #fabiennes design (min)\n",
    "\n",
    "mod_meas=deltaI/(2*Ic)\n",
    "beta_index = np.argmin(np.abs(mod-mod_meas))\n",
    "print(f'measured deltaI/2Ic = {round(mod_meas,3)}')\n",
    "print(f'betaL = {round(beta[beta_index],4)}')"
   ]
  },
  {
   "cell_type": "code",
   "execution_count": 10,
   "id": "several-sheriff",
   "metadata": {},
   "outputs": [
    {
     "data": {
      "text/plain": [
       "((188,), 0.0201917, 97.9043)"
      ]
     },
     "execution_count": 10,
     "metadata": {},
     "output_type": "execute_result"
    }
   ],
   "source": [
    "beta.shape, min(beta), max(beta)"
   ]
  },
  {
   "cell_type": "code",
   "execution_count": 12,
   "id": "satisfactory-trinidad",
   "metadata": {},
   "outputs": [
    {
     "data": {
      "text/plain": [
       "array([0.64085 , 0.652901, 0.671431, 0.696921, 0.710064, 0.723456,\n",
       "       0.743948, 0.757958, 0.772253, 0.801549, 0.824297, 0.847692,\n",
       "       0.871726, 0.896419, 0.913325, 0.921934, 0.956857, 0.965876,\n",
       "       0.984066, 1.00262 ])"
      ]
     },
     "execution_count": 12,
     "metadata": {},
     "output_type": "execute_result"
    }
   ],
   "source": [
    "beta[80:100]"
   ]
  },
  {
   "cell_type": "code",
   "execution_count": null,
   "id": "grateful-resolution",
   "metadata": {},
   "outputs": [],
   "source": []
  }
 ],
 "metadata": {
  "kernelspec": {
   "display_name": "Python 3",
   "language": "python",
   "name": "python3"
  },
  "language_info": {
   "codemirror_mode": {
    "name": "ipython",
    "version": 3
   },
   "file_extension": ".py",
   "mimetype": "text/x-python",
   "name": "python",
   "nbconvert_exporter": "python",
   "pygments_lexer": "ipython3",
   "version": "3.7.3"
  }
 },
 "nbformat": 4,
 "nbformat_minor": 5
}
